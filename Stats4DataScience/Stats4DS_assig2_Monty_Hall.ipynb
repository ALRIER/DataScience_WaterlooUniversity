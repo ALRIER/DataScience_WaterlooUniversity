{
  "cells": [
    {
      "cell_type": "markdown",
      "metadata": {
        "id": "view-in-github",
        "colab_type": "text"
      },
      "source": [
        "<a href=\"https://colab.research.google.com/github/ALRIER/DtaScienceAssignments_WaterlooUniversity/blob/Assignments/Stats4DataScience/Stats4DS_assig2_Monty_Hall.ipynb\" target=\"_parent\"><img src=\"https://colab.research.google.com/assets/colab-badge.svg\" alt=\"Open In Colab\"/></a>"
      ]
    },
    {
      "cell_type": "markdown",
      "metadata": {
        "id": "y8F-5tMKTQjL"
      },
      "source": [
        "## Assignment 2"
      ]
    },
    {
      "cell_type": "markdown",
      "metadata": {
        "id": "07Y_ONdkTQjR"
      },
      "source": [
        "This assignmemt is based on content discussed in module 2 and will work on a solution for the famous Monty Hall game.  Retrieved from https://en.wikipedia.org/wiki/Monty_Hall_problem\n"
      ]
    },
    {
      "cell_type": "markdown",
      "metadata": {
        "id": "7hNSzgdzTQjU"
      },
      "source": [
        "## Learning outcomes"
      ]
    },
    {
      "cell_type": "markdown",
      "metadata": {
        "id": "2QtRX9sRTQjX"
      },
      "source": [
        "- Program a simple simulation to solve a concrete statistical problem\n",
        "- Develop insight into the Bayesian probabilistic viewpoint\n",
        "- Recognize that statistical intuition can sometimes be wrong\n"
      ]
    },
    {
      "cell_type": "markdown",
      "metadata": {
        "id": "lfLffNUWTQja"
      },
      "source": [
        "**Question**\n",
        "\n",
        "Given below is the description of the problem.  \n",
        "\n",
        "Suppose you're on a game show and you're given the choice of three doors. \n",
        "\n",
        "Behind one door is a car; behind the others, goats. The car and the goats were placed randomly behind the doors before the show.\n",
        "\n",
        "The rules are:\n",
        "\n",
        "After you have chosen a door, the door remains closed for the time being. \n",
        "The game show host, Monty Hall, who knows what is behind the doors, now has to open one of the two remaining doors, and the door he opens must have a goat behind it. If both remaining doors have goats behind them, he chooses one randomly. \n",
        "\n",
        "After Monty opens a door with a goat, he will ask you to decide whether you want to stay with your first choice or to switch to the last remaining door. \n",
        "Imagine that you chose Door 1 and the host opens Door 3, which has a goat. \n",
        "He then asks you \"Do you want to switch to Door Number 2?\" Is it to your advantage to change your choice? \n",
        "\n",
        "**NOTES:**\n",
        "1. The player may initially choose any of the three doors (not just Door 1).\n",
        "2. The host opens a different door revealing a goat (not necessarily Door 3).\n",
        "3. The host gives the player a second choice between the two remaining unopened doors. \n"
      ]
    },
    {
      "cell_type": "markdown",
      "metadata": {
        "id": "L041acdjTQjb"
      },
      "source": [
        "\n",
        "\n",
        "(Source: https://en.wikipedia.org/wiki/Monty_Hall_problem#)"
      ]
    },
    {
      "cell_type": "markdown",
      "metadata": {
        "id": "dAuGtwxzTQje"
      },
      "source": [
        "- Write Python code to solve the Monty Hall problem. Simulate at least a thousand games using three doors for each strategy and show the results in such a way as to make it easy to compare the effects of each strategy.\n"
      ]
    },
    {
      "cell_type": "code",
      "execution_count": 1,
      "metadata": {
        "id": "CDPBkOEdInks"
      },
      "outputs": [],
      "source": [
        "from numpy import random\n",
        "import numpy as np"
      ]
    },
    {
      "cell_type": "markdown",
      "source": [
        "What I'm going to do first is to define the doors."
      ],
      "metadata": {
        "id": "5dBijrxmADSz"
      }
    },
    {
      "cell_type": "code",
      "source": [
        "doors=np.array([1,2,3])"
      ],
      "metadata": {
        "id": "XY1-1U_pACiw"
      },
      "execution_count": 2,
      "outputs": []
    },
    {
      "cell_type": "markdown",
      "source": [
        "after that I'm going to assign the car to 1 door "
      ],
      "metadata": {
        "id": "4gSVGWqEAL_I"
      }
    },
    {
      "cell_type": "code",
      "source": [
        "doorwithcar = np.random.choice(doors)\n",
        "print('doorwithcar', doorwithcar)"
      ],
      "metadata": {
        "colab": {
          "base_uri": "https://localhost:8080/"
        },
        "id": "B20sFhLvASWy",
        "outputId": "dc380bef-b131-41a0-c7d2-6da1019fe3c0"
      },
      "execution_count": 3,
      "outputs": [
        {
          "output_type": "stream",
          "name": "stdout",
          "text": [
            "doorwithcar 3\n"
          ]
        }
      ]
    },
    {
      "cell_type": "markdown",
      "source": [
        "Now, the player has to select one door"
      ],
      "metadata": {
        "id": "maBmKccwAoXh"
      }
    },
    {
      "cell_type": "code",
      "source": [
        "playersdoor = np.random.choice(doors)\n",
        "print('playersdoor', playersdoor)"
      ],
      "metadata": {
        "colab": {
          "base_uri": "https://localhost:8080/"
        },
        "id": "7tTqW19YArKz",
        "outputId": "febe7f02-d18e-4282-c8c4-e28e5da55130"
      },
      "execution_count": 4,
      "outputs": [
        {
          "output_type": "stream",
          "name": "stdout",
          "text": [
            "playersdoor 1\n"
          ]
        }
      ]
    },
    {
      "cell_type": "markdown",
      "source": [
        "Now, Monty has to choose one door, ut first I have to leave one door less since the player already took one."
      ],
      "metadata": {
        "id": "OFDD4kVCBY0M"
      }
    },
    {
      "cell_type": "code",
      "source": [
        "availabledoor =  np.delete(doors,playersdoor-1)\n",
        "print(availabledoor)"
      ],
      "metadata": {
        "colab": {
          "base_uri": "https://localhost:8080/"
        },
        "id": "I7rPSlzVBExs",
        "outputId": "cf9778b2-6ba7-4c67-e565-2c22b7a1e35c"
      },
      "execution_count": 5,
      "outputs": [
        {
          "output_type": "stream",
          "name": "stdout",
          "text": [
            "[2 3]\n"
          ]
        }
      ]
    },
    {
      "cell_type": "markdown",
      "source": [
        "Monty takes one door. "
      ],
      "metadata": {
        "id": "_aGVXmwyI2t_"
      }
    },
    {
      "cell_type": "code",
      "source": [
        "montysdoor= np.random.choice(availabledoor)"
      ],
      "metadata": {
        "id": "qDjmYjiJCLMz"
      },
      "execution_count": 6,
      "outputs": []
    },
    {
      "cell_type": "markdown",
      "source": [
        "I have to verify that the chosen door was not the door with the car and if it is, it will need to take another one."
      ],
      "metadata": {
        "id": "7w3-_kWmCfKU"
      }
    },
    {
      "cell_type": "code",
      "source": [
        "if montysdoor == doorwithcar:\n",
        "  if montysdoor == availabledoor[0]:\n",
        "    montysdoor == availabledoor[1]\n",
        "  else:\n",
        "    montysdoor=availabledoor[0]\n",
        "print(montysdoor)"
      ],
      "metadata": {
        "colab": {
          "base_uri": "https://localhost:8080/"
        },
        "id": "IcQXm3idCtLw",
        "outputId": "53ef4234-57b8-455b-b306-b249849a4b71"
      },
      "execution_count": 7,
      "outputs": [
        {
          "output_type": "stream",
          "name": "stdout",
          "text": [
            "2\n"
          ]
        }
      ]
    },
    {
      "cell_type": "markdown",
      "source": [
        "Now I'm going to create the loop to repeat the game 1000 times. "
      ],
      "metadata": {
        "id": "ZHN8qblGD-1U"
      }
    },
    {
      "cell_type": "code",
      "source": [
        "n= 1000\n",
        "rightguess = 0\n",
        "for i in range(n):\n",
        "  doors=np.array([1,2,3])\n",
        "  doorwithcar = np.random.choice(doors)\n",
        "  playersdoor = np.random.choice(doors)\n",
        "  availabledoor =  np.delete(doors,playersdoor-1)\n",
        "  montysdoor= np.random.choice(availabledoor)\n",
        "  if montysdoor == doorwithcar:\n",
        "    if montysdoor == availabledoor[0]:\n",
        "      montysdoor == availabledoor[1]\n",
        "    else:\n",
        "      montysdoor=availabledoor[0]\n",
        "  if playersdoor==doorwithcar:\n",
        "    rightguess+=1\n",
        " \n",
        "print('right guess without switching doors', rightguess/n)\n",
        "print('right guess switching doors', (n-rightguess)/n)"
      ],
      "metadata": {
        "colab": {
          "base_uri": "https://localhost:8080/"
        },
        "id": "7_pDP2WAEDzy",
        "outputId": "623508b5-5891-4335-8e92-0c527b674344"
      },
      "execution_count": 8,
      "outputs": [
        {
          "output_type": "stream",
          "name": "stdout",
          "text": [
            "right guess without switching doors 0.315\n",
            "right guess switching doors 0.685\n"
          ]
        }
      ]
    },
    {
      "cell_type": "markdown",
      "source": [
        "Based on Bayes rule the probability will be 2/3 more possibilities to getting the car if switching doors and it is evident in the experiment since the probability of getting the car when switching doors is always higher."
      ],
      "metadata": {
        "id": "clpgCbSiHA9P"
      }
    }
  ],
  "metadata": {
    "colab": {
      "provenance": [],
      "include_colab_link": true
    },
    "kernelspec": {
      "display_name": "Python 3",
      "language": "python",
      "name": "python3"
    },
    "language_info": {
      "codemirror_mode": {
        "name": "ipython",
        "version": 3
      },
      "file_extension": ".py",
      "mimetype": "text/x-python",
      "name": "python",
      "nbconvert_exporter": "python",
      "pygments_lexer": "ipython3",
      "version": "3.8.5"
    }
  },
  "nbformat": 4,
  "nbformat_minor": 0
}