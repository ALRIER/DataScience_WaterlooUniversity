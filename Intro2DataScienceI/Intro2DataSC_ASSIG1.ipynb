{
  "cells": [
    {
      "cell_type": "markdown",
      "metadata": {
        "id": "view-in-github",
        "colab_type": "text"
      },
      "source": [
        "<a href=\"https://colab.research.google.com/github/ALRIER/DtaScienceAssignments_WaterlooUniversity/blob/Assignments/Intro2DataScienceI/Intro2DataSC_ASSIG1.ipynb\" target=\"_parent\"><img src=\"https://colab.research.google.com/assets/colab-badge.svg\" alt=\"Open In Colab\"/></a>"
      ]
    },
    {
      "cell_type": "markdown",
      "metadata": {
        "id": "Q1aJeu8nHQDk"
      },
      "source": [
        "Before you turn this assignment in, make sure everything runs as expected. \n",
        "\n",
        "You can either **restart the kernel** (in the menu bar, select Kernel $\\rightarrow$ Restart and Clear Output) and then **run all cells** (in the menu bar, select Cell $\\rightarrow$ Run All). \n",
        "Or, you can simply **clear the output for all cells** (in the menu bar, select Cell $\\rightarrow$ All Output $\\rightarrow$ Clear) and then **run all cells** (in the menu bar, select Cell $\\rightarrow$ Run All).\n",
        "\n",
        "---"
      ]
    },
    {
      "cell_type": "code",
      "execution_count": 2,
      "metadata": {
        "id": "qaMH-0WUHQDn"
      },
      "outputs": [],
      "source": [
        "NAME = \"Alvaro Rivera-Eraso\"\n",
        "COLLABORATORS = \"\""
      ]
    },
    {
      "cell_type": "markdown",
      "metadata": {
        "id": "2xHCvLXZHQDo"
      },
      "source": [
        "# Assignment 1 - Intro to Python\n",
        "\n",
        "(15 points)"
      ]
    },
    {
      "cell_type": "markdown",
      "metadata": {
        "id": "fupFON7fHQDo"
      },
      "source": [
        "## Learning Outcomes\n",
        "\n",
        "In this assignment you will practice:\n",
        "\n",
        "- Basic Python syntax\n",
        "- Writing simple Python functions\n",
        "- Working with strings and dictionaries"
      ]
    },
    {
      "cell_type": "markdown",
      "metadata": {
        "id": "gYm1_SQZHQDp"
      },
      "source": [
        "## Question #1: Count symbols\n",
        "\n",
        "(3 points)"
      ]
    },
    {
      "cell_type": "markdown",
      "metadata": {
        "id": "Y0Ad-9JPHQDp"
      },
      "source": [
        "In this question, you are given a string `s` which represents a DNA string. The string `s` consists of symbols `'A', 'C', 'G',` and `'T'`. An example of a length 21 DNA string is `\"ATGCTTCAGAAAGGTCTTACG.\"` \n",
        "\n",
        "Your task is to write a code which will count the number of times each of the symbols `'A', 'C', 'G'`, and `'T'` occur in `s`. Your code should generate a **list of 4 integers** and **print it out**."
      ]
    },
    {
      "cell_type": "code",
      "execution_count": 3,
      "metadata": {
        "id": "ebqVIqJ2HQDq"
      },
      "outputs": [],
      "source": [
        "# Here is the DNA string:\n",
        "\n",
        "s = 'AGCTTTTCATTCTGACTGCAACGGGCAATATGTCTCTGTGTGGATTAAAAAAAGAGTGTCTGATAGCAGC'"
      ]
    },
    {
      "cell_type": "code",
      "execution_count": 4,
      "metadata": {
        "id": "vn2rl0LIHQDq"
      },
      "outputs": [],
      "source": [
        "DNA = {} #empty dict\n",
        "Aminoacids=[]\n",
        "Values=[] #empty lists Aminos and Values. \n",
        "for i in s:\n",
        "    if i not in DNA:\n",
        "        DNA[i] = 1\n",
        "    else:\n",
        "        DNA[i] += 1 #Fill out the dict with the numbers of repetitions. \n",
        "for keys in DNA: #finally lets split it in two lists, one with numbers and one with Aminoacids.\n",
        "  Aminoacids.append(keys)\n",
        "  Values.append(DNA[keys])"
      ]
    },
    {
      "cell_type": "code",
      "source": [
        "print(Aminoacids)\n",
        "print(Values)\n",
        "print(DNA)"
      ],
      "metadata": {
        "colab": {
          "base_uri": "https://localhost:8080/"
        },
        "id": "be5iL8jm3z-q",
        "outputId": "c0679a57-a7b6-4e45-b544-d6a0c4a1fe7a"
      },
      "execution_count": 5,
      "outputs": [
        {
          "output_type": "stream",
          "name": "stdout",
          "text": [
            "['A', 'G', 'C', 'T']\n",
            "[20, 17, 12, 21]\n",
            "{'A': 20, 'G': 17, 'C': 12, 'T': 21}\n"
          ]
        }
      ]
    },
    {
      "cell_type": "markdown",
      "metadata": {
        "id": "l_NonL8zHQDr"
      },
      "source": [
        "## Question #2: Find a substring\n",
        "\n",
        "(4 points)"
      ]
    },
    {
      "cell_type": "markdown",
      "metadata": {
        "id": "8kJGfL3ZHQDr"
      },
      "source": [
        "You are given a dictionary of the US states and their capitals. The keys in the dictionary are states and the values are capital names.\n",
        "\n",
        "Write a code to return a **list of all capitals** that contain the name of a state in their name as a substring.\n",
        "\n",
        "**HINT:** For example, `Indianapolis` as a capital name and `Indiana` as a state name is one of the key/value pairs that your code would find. Your code should add `Indianapolis` to the list. After you found all capitals and added them to the list, print out the list."
      ]
    },
    {
      "cell_type": "code",
      "execution_count": 6,
      "metadata": {
        "id": "2ajtVSpVHQDs"
      },
      "outputs": [],
      "source": [
        "# Run this cell to create a dictionary of states' capitals\n",
        "capitals={\n",
        "    'Alabama': 'Montgomery',\n",
        "    'Alaska': 'Juneau',\n",
        "    'Arizona':'Phoenix',\n",
        "    'Arkansas':'Little Rock',\n",
        "    'California': 'Sacramento',\n",
        "    'Colorado':'Denver',\n",
        "    'Connecticut':'Hartford',\n",
        "    'Delaware':'Dover',\n",
        "    'Florida': 'Tallahassee',\n",
        "    'Georgia': 'Atlanta',\n",
        "    'Hawaii': 'Honolulu',\n",
        "    'Idaho': 'Boise',\n",
        "    'Illinios': 'Springfield',\n",
        "    'Indiana': 'Indianapolis',\n",
        "    'Iowa': 'Des Monies',\n",
        "    'Kansas': 'Topeka',\n",
        "    'Kentucky': 'Frankfort',\n",
        "    'Louisiana': 'Baton Rouge',\n",
        "    'Maine': 'Augusta',\n",
        "    'Maryland': 'Annapolis',\n",
        "    'Massachusetts': 'Boston',\n",
        "    'Michigan': 'Lansing',\n",
        "    'Minnesota': 'St. Paul',\n",
        "    'Mississippi': 'Jackson',\n",
        "    'Missouri': 'Jefferson City',\n",
        "    'Montana': 'Helena',\n",
        "    'Nebraska': 'Lincoln',\n",
        "    'Neveda': 'Carson City',\n",
        "    'New Hampshire': 'Concord',\n",
        "    'New Jersey': 'Trenton',\n",
        "    'New Mexico': 'Santa Fe',\n",
        "    'New York': 'Albany',\n",
        "    'North Carolina': 'Raleigh',\n",
        "    'North Dakota': 'Bismarck',\n",
        "    'Ohio': 'Columbus',\n",
        "    'Oklahoma': 'Oklahoma City',\n",
        "    'Oregon': 'Salem',\n",
        "    'Pennsylvania': 'Harrisburg',\n",
        "    'Rhoda Island': 'Providence',\n",
        "    'South Carolina': 'Columbia',\n",
        "    'South Dakota': 'Pierre',\n",
        "    'Tennessee': 'Nashville',\n",
        "    'Texas': 'Austin',\n",
        "    'Utah': 'Salt Lake City',\n",
        "    'Vermont': 'Montpelier',\n",
        "    'Virginia': 'Richmond',\n",
        "    'Washington': 'Olympia',\n",
        "    'West Virginia': 'Charleston',\n",
        "    'Wisconsin': 'Madison',\n",
        "    'Wyoming': 'Cheyenne'  \n",
        "}\n"
      ]
    },
    {
      "cell_type": "code",
      "execution_count": 7,
      "metadata": {
        "colab": {
          "base_uri": "https://localhost:8080/"
        },
        "id": "sVVHfJPOHQDt",
        "outputId": "2985202d-149e-401b-fbdf-fe575d3266d5"
      },
      "outputs": [
        {
          "output_type": "stream",
          "name": "stdout",
          "text": [
            "{'Indiana': 'Indianapolis', 'Oklahoma': 'Oklahoma City'}\n"
          ]
        }
      ],
      "source": [
        "# I created 2 empty lists:\n",
        "ListCapitals =[]\n",
        "ListStates=[]\n",
        "#Now i will discover wich are the name of the capitals with states in it.\n",
        "for k, v in capitals.items():\n",
        "    if (k in capitals[k]):\n",
        "        ListCapitals.append(capitals[k])\n",
        "    if k in v:#let's discover the states too and put it into a new list. \n",
        "        ListStates.append(k)\n",
        "TotalList={} #let's create an empty list\n",
        "for i in range(len(ListStates)): #lets fill out with the names. \n",
        "  TotalList[ListStates[i]]= ListCapitals[i]\n",
        "print(TotalList) #Bang!\n"
      ]
    },
    {
      "cell_type": "markdown",
      "metadata": {
        "id": "k2tgeV9nHQDt"
      },
      "source": [
        "## Question #3: Is a data point within a rectangle?\n",
        "\n",
        "(4 points)"
      ]
    },
    {
      "cell_type": "markdown",
      "metadata": {
        "id": "gfGZWgpOHQDt"
      },
      "source": [
        "Write a function `isIn()` which returns **boolean `True`** if a point is within a rectangle specified by two sets of coordinates and **boolean `False`** if the point is outside the rectangle. The function should accept three parameters:\n",
        "- the first parameter is a set of coordinates which defines one of the corners of the rectangle, \n",
        "- the second parameter is also a set of coordinates that defines the second corner,\n",
        "- the third set of coordinates defines a single point which is being tested.\n",
        "\n",
        "For example, \n",
        "- `isIn((1,2), (3,4), (1.5, 3.2))` should return `True`, \n",
        "- `isIn((4,3.5), (2,1), (3, 2))` should return `True`, \n",
        "- `isIn((-1,0), (5,5), (6,0))` should return `False`,\n",
        "- `isIn((4,1), (2,4), (2.5,4.5))` should return `False`.\n",
        "\n",
        "Test your function with at least 2 different sets of data points in addition to the examples above.\n",
        "\n",
        "**NOTES:** \n",
        "1. If the point being tested is on the side of the rectangle, consider it to be within the rectangle. For example, if the rectangle is defined as `(1,2), (3,4)` and the point is `(2,2)`, the function should return `True`.\n",
        "2. In this assignment, we assume that the edges of the rectangle are parallel to coordinate axes.\n",
        "3. We also assume that the first parameter does not always represent the left corner of the rectangle and the second parameter is not always the right corner. The function should work correctly either way. Please note the second test condition above where the first parameter, `(4,3.5)`, represents the top-right corner and the second parameter, `(2,1)`, represents left-bottom corner. "
      ]
    },
    {
      "cell_type": "code",
      "execution_count": 8,
      "metadata": {
        "id": "g6pY6zybHQDu"
      },
      "outputs": [],
      "source": [
        "def isIn(firstCorner=(0,0), secondCorner=(0,0), point=(0,0)):\n",
        "  x1,y1=firstCorner[0],firstCorner[1] #let´s set the corners and its indexes.\n",
        "  x2,y2=secondCorner[0],secondCorner[1]\n",
        "  x,y=point[0],point[1]#let´s set the index for the point.\n",
        "#let's organize the conditions for the different possibilities. \n",
        "  if (x >= x1 and x <= x2 and y >= y1 and y <= y2) :\n",
        "    return True\n",
        "  elif(x >= x2 and x <= x1 and y >= y2 and y <= y1):\n",
        "       return True\n",
        "  else:\n",
        "      return False #Bang!"
      ]
    },
    {
      "cell_type": "code",
      "execution_count": 9,
      "metadata": {
        "colab": {
          "base_uri": "https://localhost:8080/"
        },
        "id": "P4iwt617HQDu",
        "outputId": "0555c5de-4f33-439b-f576-aaa93f350b50"
      },
      "outputs": [
        {
          "output_type": "stream",
          "name": "stdout",
          "text": [
            "True\n",
            "True\n",
            "False\n",
            "False\n",
            "False\n",
            "False\n",
            "True\n",
            "False\n",
            "True\n"
          ]
        }
      ],
      "source": [
        "#testing the function\n",
        "print(isIn((1,2),(3,4),(1.5,3.2)))#1\n",
        "print(isIn((4,3.5),(2,1),(3,2)))#2\n",
        "print(isIn((-1,0),(5,5),(6,0)))#3\n",
        "print(isIn((0,19),(0,40),(1,1)))#4\n",
        "print(isIn((0,200),(0,400),(1.5,3.2)))#5\n",
        "print(isIn((5,3.5),(25,1),(3,2)))#6\n",
        "print(isIn((1,2),(3,5),(1.5,3.2)))#7\n",
        "print(isIn((2,6),(3,8),(1.5,3.2)))#8\n",
        "print(isIn((1,2),(3,4),(2,2)))#9"
      ]
    },
    {
      "cell_type": "markdown",
      "metadata": {
        "id": "U4AzYKxXHQDu"
      },
      "source": [
        "## Question #4: Are all points within a rectangle?\n",
        "\n",
        "(4 points)"
      ]
    },
    {
      "cell_type": "markdown",
      "metadata": {
        "id": "atU6UBmlHQDv"
      },
      "source": [
        "Modify your function from the previous question so it takes a list of points rather than a single point and returns **boolean `True`** only if all points in the list are in the rectangle.\n",
        "\n",
        "For example,\n",
        "\n",
        "- `allIn((0,0), (5,5), [(1,1), (0,0), (5,5)])` should return `True`\n",
        "- but `allIn((0,0), (5,5), [(1,1), (0,0), (5,6)])` should return `False`\n",
        "- empty list of points `allIn((0,0), (5,5), [])` should return `False`\n",
        "\n",
        "Use the same assumptions as above about the placement of the points and how rectangle is defined. Make sure that your function returns `False` for empty list of points (no values).\n",
        "\n",
        "Test your function with at least 3 different sets of data points."
      ]
    },
    {
      "cell_type": "code",
      "execution_count": 1,
      "metadata": {
        "colab": {
          "base_uri": "https://localhost:8080/"
        },
        "id": "FT3vsiASHQDv",
        "outputId": "6e7078cb-cc56-4c69-e51f-45878ef3fa55"
      },
      "outputs": [
        {
          "output_type": "stream",
          "name": "stdout",
          "text": [
            "True\n",
            "False\n",
            "False\n",
            "True\n",
            "False\n"
          ]
        }
      ],
      "source": [
        "def allIn(firstCorner=(0,0), secondCorner=(0,0), pointList=[]):\n",
        "#Now here are some differences between the last poin and this one. \n",
        "    x1=firstCorner[0]\n",
        "    y1=firstCorner[1]  \n",
        "    x2=secondCorner[0]\n",
        "    y2=secondCorner[1]\n",
        "#the corners are the same, but not the point, because in this case its a list\n",
        "#with different points so I decided to locate the point list into a for loop that\n",
        "#runs into the range of the list and.\n",
        "    for i in range(len(pointList)):\n",
        "        a = pointList[i][0]#Point list index.\n",
        "        b = pointList[i][1] \n",
        "#it checks all my conditions. \n",
        "        if (a >= x1 and a <= x2 and a >= x2 and a <= x1):\n",
        "            return True\n",
        "        elif(b >= y1 and b >= y2 and b <= y2 and b >= y1):\n",
        "            return True\n",
        "        elif(b >= y1 and b > y2 and b <= y2 and b >= y1):\n",
        "            return False\n",
        "    return False # :) \n",
        "#I could add more indexes and conditionals as i want in order to check \n",
        "#more points for example. \n",
        "print(allIn((0,0), (5,5), [(1,1), (0,0), (5,5)])) \n",
        "print(allIn((0,0), (5,5), [(1,1), (0,0), (5,6)])) \n",
        "print(allIn((0,0), (5,5), []))\n",
        "print(allIn((0,0), (5,5), [(1,1), (0,0), (4,5)]))\n",
        "print(allIn((0,0), (5,5), [(1,1), (0,0), (4,6)]))"
      ]
    }
  ],
  "metadata": {
    "kernelspec": {
      "display_name": "Python 3",
      "language": "python",
      "name": "python3"
    },
    "language_info": {
      "codemirror_mode": {
        "name": "ipython",
        "version": 3
      },
      "file_extension": ".py",
      "mimetype": "text/x-python",
      "name": "python",
      "nbconvert_exporter": "python",
      "pygments_lexer": "ipython3",
      "version": "3.6.6"
    },
    "toc": {
      "base_numbering": 1,
      "nav_menu": {},
      "number_sections": false,
      "sideBar": true,
      "skip_h1_title": false,
      "title_cell": "Table of Contents",
      "title_sidebar": "Contents",
      "toc_cell": false,
      "toc_position": {},
      "toc_section_display": true,
      "toc_window_display": false
    },
    "colab": {
      "provenance": [],
      "include_colab_link": true
    }
  },
  "nbformat": 4,
  "nbformat_minor": 0
}