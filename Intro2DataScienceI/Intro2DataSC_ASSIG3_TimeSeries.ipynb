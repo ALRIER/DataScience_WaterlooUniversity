{
  "cells": [
    {
      "cell_type": "markdown",
      "metadata": {
        "id": "view-in-github",
        "colab_type": "text"
      },
      "source": [
        "<a href=\"https://colab.research.google.com/github/ALRIER/DtaScienceAssignments_WaterlooUniversity/blob/Assignments/Intro2DataScienceI/Intro2DataSC_ASSIG3_TimeSeries.ipynb\" target=\"_parent\"><img src=\"https://colab.research.google.com/assets/colab-badge.svg\" alt=\"Open In Colab\"/></a>"
      ]
    },
    {
      "cell_type": "markdown",
      "metadata": {
        "id": "3Nta8_E0EOcH"
      },
      "source": [
        "Before you turn this problem in, make sure everything runs as expected. First, **restart the kernel** (in the menu bar, select Kernel$\\rightarrow$Restart) and then **run all cells** (in the menu bar, select Cell$\\rightarrow$Run All).\n",
        "\n",
        "Below, please fill in your name and collaborators:"
      ]
    },
    {
      "cell_type": "code",
      "execution_count": null,
      "metadata": {
        "id": "Huk6Ora8EOcI"
      },
      "outputs": [],
      "source": [
        "NAME = \"Alvaro Rivera\"\n",
        "COLLABORATORS = \"\""
      ]
    },
    {
      "cell_type": "markdown",
      "metadata": {
        "id": "FvOMRl25EOcK"
      },
      "source": [
        "# Assignment 3 - Time Series Analysis\n",
        "**(15 points total)**"
      ]
    },
    {
      "cell_type": "markdown",
      "metadata": {
        "id": "8sCSrzGQEOcK"
      },
      "source": [
        "## Assignment tasks:"
      ]
    },
    {
      "cell_type": "markdown",
      "metadata": {
        "id": "IKSI628iEOcL"
      },
      "source": [
        "In this assignment you will conduct time series analysis of the financial data. \n",
        "\n",
        "1. Setup your environment to access and download latest stock data. Please see instructions below for different tools you can use to get the data. You can use any of the options provided, either Quandl or Yahoo Finance. If you know of any other service to download the data, please use that service, provide an explanation in the comments.\n",
        "\n",
        "2. *(2 points)* Download the **adjusted** close prices for FB, MMM, IBM and AMZN for the last 60 months. If you run into any issues downloading the data from online sources, you can use `.csv` files provided. This will not affect your grade for the assignment.\n",
        "\n",
        "3. *(3 points)* Resample the data to get prices for the end of the **business** month. Select the **Adjusted Close** for each stock.\n",
        "\n",
        "4. *(3 points)* Use the pandas `autocorrelation_plot()` function to plot the autocorrelation of the adjusted month-end close prices for each of the stocks.\n",
        "    - Are they autocorrelated?\n",
        "    - Provide short explanation.\n",
        "\n",
        "5. *(4 points)* \n",
        "    - Calculate the monthly returns for each stock using the \"shift trick\" explained in the lecture, using `shift()` function. \n",
        "    - Use pandas `autotocorrelation_plot()` to plot the autocorrelation of the monthly returns.\n",
        "    - Are the returns autocorrelated? Provide short explanation.\n",
        "\n",
        "6. *(3 points)*\n",
        "    - Combine all 4 time series (returns) into a single DataFrame,\n",
        "    - Visualize the correlation between the returns of all pairs of stocks using a scatter plot matrix (use `scatter_matrix()` function from `pandas.plotting`).\n",
        "    - Explain the results. Is there any correlation?\n",
        "\n",
        "**NOTES:** \n",
        "1. In this assignment, please make sure the DataFrame(s) do not contain any NAs before you plot autocorrelations or scatter matrix.\n",
        "2. Both options explained below use `pandas-datareader` package for remote data access. To install it, type the following in a command window: `conda install pandas-datareader`. You will also need to install one or more of the following packages `fix_yahoo_finance`, `quandl`. See below.\n",
        "\n",
        "---------"
      ]
    },
    {
      "cell_type": "markdown",
      "metadata": {
        "id": "KRavWWzhEOcM"
      },
      "source": [
        "## Downloading Stock Prices"
      ]
    },
    {
      "cell_type": "markdown",
      "metadata": {
        "id": "PlD598DAEOcM"
      },
      "source": [
        "### Option 1 - Using QUANDL"
      ]
    },
    {
      "cell_type": "markdown",
      "metadata": {
        "id": "CYRRJ-4pEOcN"
      },
      "source": [
        "To use QUANDL service, you need to create an account and get an API Key. Here is the short description of steps:\n",
        "\n",
        "- Go to https://www.quandl.com/\n",
        "- Click either `sign up` at the top right corner of the home page, or scroll all the way down and click `Create Free Account` button at the bottom of the page.\n",
        "- Create an account. \n",
        "- You will receive an email to the email address you have used during the registration. Confirm your email.\n",
        "\n",
        "You are all set.\n",
        "\n",
        "Now, as you login into your account, click the avatar icon at the top right corner of the page, select `\"Account Settings.\"`\n",
        "On the next page, you will see `Your API Key` field with a long string of numbers and characters underneath. You need this API key for your call to Quandl from the notebook. In the code below, replace `YOUR_API_KEY` with the actual API key from your account. \n",
        "\n",
        "**NOTE**: You can remove this key before submitting the assignment."
      ]
    },
    {
      "cell_type": "code",
      "execution_count": null,
      "metadata": {
        "id": "8JRL3UYVEOcN"
      },
      "outputs": [],
      "source": [
        "# all imports and env variables\n",
        "#import pandas as pd\n",
        "#pd.core.common.is_list_like = pd.api.types.is_list_like\n",
        "#import datetime\n",
        "#import pandas_datareader.data as web\n",
        "\n",
        "# This line of code should work on Windows and Mac\n",
        "#%env QUANDL_API_KEY = 'u661DanykzSkE7y5ghEs'\n",
        "\n",
        "# If the above line of code does not work on your system,\n",
        "# You can use this way of setting Quandl env variable\n",
        "#import quandl\n",
        "#quandl.ApiConfig.api_key = \"u661DanykzSkE7y5ghEs\""
      ]
    },
    {
      "cell_type": "code",
      "execution_count": null,
      "metadata": {
        "id": "iiX2FxIMEOcO"
      },
      "outputs": [],
      "source": [
        "# Make sure you adjust the start and end date accordingly\n",
        "# so that the start date = today date\n",
        "\n",
        "#start = datetime.datetime(2015, 11, 12)\n",
        "#end = datetime.datetime(2020, 11, 12)\n",
        "\n",
        "#amzn = web.DataReader('WIKI/AMZN', 'quandl', start, end)"
      ]
    },
    {
      "cell_type": "markdown",
      "metadata": {
        "id": "bDFe5W2hEOcP"
      },
      "source": [
        "### Option 2 - Using Yahoo Finance `yfinance` library"
      ]
    },
    {
      "cell_type": "code",
      "execution_count": null,
      "metadata": {
        "id": "4ZjN88TyEOcP"
      },
      "outputs": [],
      "source": [
        "#import yfinance as yf\n",
        "#from pandas_datareader import data as pdr\n",
        "\n",
        "# 1) Using pandas datareader and Yahoo Finance\n",
        "#yf.pdr_override()\n",
        "\n",
        "#amzn = pdr.get_data_yahoo('AMZN', start = start)\n"
      ]
    },
    {
      "cell_type": "code",
      "execution_count": null,
      "metadata": {
        "id": "AcYhGKCrEOcQ"
      },
      "outputs": [],
      "source": [
        "# 2) Using fix_yahoo_finance library only to download AMZN data\n",
        "\n",
        "#amzn = yf.download('AMZN', start=start)"
      ]
    },
    {
      "cell_type": "code",
      "execution_count": null,
      "metadata": {
        "id": "S48rnGtfEOcQ"
      },
      "outputs": [],
      "source": [
        "# If we want to download multipe stocks into a single dataframe:\n",
        "\n",
        "#all_stocks_list = ['AMZN', 'FB']\n",
        "#all_stocks = yf.download(all_stocks_list, start = start)"
      ]
    },
    {
      "cell_type": "code",
      "execution_count": null,
      "metadata": {
        "id": "0LwsOoRXEOcR",
        "colab": {
          "base_uri": "https://localhost:8080/"
        },
        "outputId": "af275dce-dca0-4c89-fa29-355d1a13ec7c"
      },
      "outputs": [
        {
          "output_type": "stream",
          "name": "stdout",
          "text": [
            "Mounted at /content/drive\n"
          ]
        }
      ],
      "source": [
        "import numpy as np\n",
        "import pandas as pd\n",
        "import seaborn as sns\n",
        "import statsmodels.api as sm\n",
        "import matplotlib.pyplot as plt\n",
        "import warnings\n",
        "import pandas_profiling\n",
        "from scipy.stats import chi2_contingency\n",
        "from matplotlib import style\n",
        "from scipy import stats\n",
        "from pandas_profiling import ProfileReport\n",
        "from google.colab import drive\n",
        "from datetime import datetime\n",
        "from datetime import timedelta\n",
        "plt.style.use('ggplot')\n",
        "%matplotlib inline\n",
        "warnings.filterwarnings('ignore')   \n",
        "drive.mount('/content/drive')"
      ]
    },
    {
      "cell_type": "markdown",
      "source": [
        "# Sección nueva"
      ],
      "metadata": {
        "id": "hcWKc1nfG6Fp"
      }
    },
    {
      "cell_type": "markdown",
      "source": [
        "<h2>Download the adjusted close prices for FB, MMM, IBM and AMZN for the last 60 months. If you run into any issues downloading the data from online sources, you can use .csv files provided. This will not affect your grade for the assignment.</h2>"
      ],
      "metadata": {
        "id": "PMpX2YAO0PwO"
      }
    },
    {
      "cell_type": "markdown",
      "source": [
        "I used each data frame you gave us becouse, when I tried to download the data, got lots of errors.  "
      ],
      "metadata": {
        "id": "yAWZDi14e0eT"
      }
    },
    {
      "cell_type": "code",
      "execution_count": null,
      "metadata": {
        "id": "V_-fdcA_EOcR",
        "colab": {
          "base_uri": "https://localhost:8080/",
          "height": 237
        },
        "outputId": "e22863b3-c123-4419-8134-1050a210614d"
      },
      "outputs": [
        {
          "output_type": "execute_result",
          "data": {
            "text/plain": [
              "               Open     High     Low   Close     Volume  ExDividend  \\\n",
              "Date                                                                  \n",
              "2017-06-30   980.12   983.47  967.61  968.00  3309138.0         0.0   \n",
              "2017-06-29   979.00   987.56  965.25  975.93  4246765.0         0.0   \n",
              "2017-06-28   978.55   990.68  969.21  990.33  3708638.0         0.0   \n",
              "2017-06-27   990.69   998.80  976.00  976.78  3735360.0         0.0   \n",
              "2017-06-26  1008.50  1009.80  992.00  993.98  3347195.0         0.0   \n",
              "\n",
              "            SplitRatio  AdjOpen  AdjHigh  AdjLow  AdjClose  AdjVolume  \n",
              "Date                                                                   \n",
              "2017-06-30         1.0   980.12   983.47  967.61    968.00  3309138.0  \n",
              "2017-06-29         1.0   979.00   987.56  965.25    975.93  4246765.0  \n",
              "2017-06-28         1.0   978.55   990.68  969.21    990.33  3708638.0  \n",
              "2017-06-27         1.0   990.69   998.80  976.00    976.78  3735360.0  \n",
              "2017-06-26         1.0  1008.50  1009.80  992.00    993.98  3347195.0  "
            ],
            "text/html": [
              "\n",
              "  <div id=\"df-49cb003a-cffd-4a21-b4c8-a5bfb81ac655\">\n",
              "    <div class=\"colab-df-container\">\n",
              "      <div>\n",
              "<style scoped>\n",
              "    .dataframe tbody tr th:only-of-type {\n",
              "        vertical-align: middle;\n",
              "    }\n",
              "\n",
              "    .dataframe tbody tr th {\n",
              "        vertical-align: top;\n",
              "    }\n",
              "\n",
              "    .dataframe thead th {\n",
              "        text-align: right;\n",
              "    }\n",
              "</style>\n",
              "<table border=\"1\" class=\"dataframe\">\n",
              "  <thead>\n",
              "    <tr style=\"text-align: right;\">\n",
              "      <th></th>\n",
              "      <th>Open</th>\n",
              "      <th>High</th>\n",
              "      <th>Low</th>\n",
              "      <th>Close</th>\n",
              "      <th>Volume</th>\n",
              "      <th>ExDividend</th>\n",
              "      <th>SplitRatio</th>\n",
              "      <th>AdjOpen</th>\n",
              "      <th>AdjHigh</th>\n",
              "      <th>AdjLow</th>\n",
              "      <th>AdjClose</th>\n",
              "      <th>AdjVolume</th>\n",
              "    </tr>\n",
              "    <tr>\n",
              "      <th>Date</th>\n",
              "      <th></th>\n",
              "      <th></th>\n",
              "      <th></th>\n",
              "      <th></th>\n",
              "      <th></th>\n",
              "      <th></th>\n",
              "      <th></th>\n",
              "      <th></th>\n",
              "      <th></th>\n",
              "      <th></th>\n",
              "      <th></th>\n",
              "      <th></th>\n",
              "    </tr>\n",
              "  </thead>\n",
              "  <tbody>\n",
              "    <tr>\n",
              "      <th>2017-06-30</th>\n",
              "      <td>980.12</td>\n",
              "      <td>983.47</td>\n",
              "      <td>967.61</td>\n",
              "      <td>968.00</td>\n",
              "      <td>3309138.0</td>\n",
              "      <td>0.0</td>\n",
              "      <td>1.0</td>\n",
              "      <td>980.12</td>\n",
              "      <td>983.47</td>\n",
              "      <td>967.61</td>\n",
              "      <td>968.00</td>\n",
              "      <td>3309138.0</td>\n",
              "    </tr>\n",
              "    <tr>\n",
              "      <th>2017-06-29</th>\n",
              "      <td>979.00</td>\n",
              "      <td>987.56</td>\n",
              "      <td>965.25</td>\n",
              "      <td>975.93</td>\n",
              "      <td>4246765.0</td>\n",
              "      <td>0.0</td>\n",
              "      <td>1.0</td>\n",
              "      <td>979.00</td>\n",
              "      <td>987.56</td>\n",
              "      <td>965.25</td>\n",
              "      <td>975.93</td>\n",
              "      <td>4246765.0</td>\n",
              "    </tr>\n",
              "    <tr>\n",
              "      <th>2017-06-28</th>\n",
              "      <td>978.55</td>\n",
              "      <td>990.68</td>\n",
              "      <td>969.21</td>\n",
              "      <td>990.33</td>\n",
              "      <td>3708638.0</td>\n",
              "      <td>0.0</td>\n",
              "      <td>1.0</td>\n",
              "      <td>978.55</td>\n",
              "      <td>990.68</td>\n",
              "      <td>969.21</td>\n",
              "      <td>990.33</td>\n",
              "      <td>3708638.0</td>\n",
              "    </tr>\n",
              "    <tr>\n",
              "      <th>2017-06-27</th>\n",
              "      <td>990.69</td>\n",
              "      <td>998.80</td>\n",
              "      <td>976.00</td>\n",
              "      <td>976.78</td>\n",
              "      <td>3735360.0</td>\n",
              "      <td>0.0</td>\n",
              "      <td>1.0</td>\n",
              "      <td>990.69</td>\n",
              "      <td>998.80</td>\n",
              "      <td>976.00</td>\n",
              "      <td>976.78</td>\n",
              "      <td>3735360.0</td>\n",
              "    </tr>\n",
              "    <tr>\n",
              "      <th>2017-06-26</th>\n",
              "      <td>1008.50</td>\n",
              "      <td>1009.80</td>\n",
              "      <td>992.00</td>\n",
              "      <td>993.98</td>\n",
              "      <td>3347195.0</td>\n",
              "      <td>0.0</td>\n",
              "      <td>1.0</td>\n",
              "      <td>1008.50</td>\n",
              "      <td>1009.80</td>\n",
              "      <td>992.00</td>\n",
              "      <td>993.98</td>\n",
              "      <td>3347195.0</td>\n",
              "    </tr>\n",
              "  </tbody>\n",
              "</table>\n",
              "</div>\n",
              "      <button class=\"colab-df-convert\" onclick=\"convertToInteractive('df-49cb003a-cffd-4a21-b4c8-a5bfb81ac655')\"\n",
              "              title=\"Convert this dataframe to an interactive table.\"\n",
              "              style=\"display:none;\">\n",
              "        \n",
              "  <svg xmlns=\"http://www.w3.org/2000/svg\" height=\"24px\"viewBox=\"0 0 24 24\"\n",
              "       width=\"24px\">\n",
              "    <path d=\"M0 0h24v24H0V0z\" fill=\"none\"/>\n",
              "    <path d=\"M18.56 5.44l.94 2.06.94-2.06 2.06-.94-2.06-.94-.94-2.06-.94 2.06-2.06.94zm-11 1L8.5 8.5l.94-2.06 2.06-.94-2.06-.94L8.5 2.5l-.94 2.06-2.06.94zm10 10l.94 2.06.94-2.06 2.06-.94-2.06-.94-.94-2.06-.94 2.06-2.06.94z\"/><path d=\"M17.41 7.96l-1.37-1.37c-.4-.4-.92-.59-1.43-.59-.52 0-1.04.2-1.43.59L10.3 9.45l-7.72 7.72c-.78.78-.78 2.05 0 2.83L4 21.41c.39.39.9.59 1.41.59.51 0 1.02-.2 1.41-.59l7.78-7.78 2.81-2.81c.8-.78.8-2.07 0-2.86zM5.41 20L4 18.59l7.72-7.72 1.47 1.35L5.41 20z\"/>\n",
              "  </svg>\n",
              "      </button>\n",
              "      \n",
              "  <style>\n",
              "    .colab-df-container {\n",
              "      display:flex;\n",
              "      flex-wrap:wrap;\n",
              "      gap: 12px;\n",
              "    }\n",
              "\n",
              "    .colab-df-convert {\n",
              "      background-color: #E8F0FE;\n",
              "      border: none;\n",
              "      border-radius: 50%;\n",
              "      cursor: pointer;\n",
              "      display: none;\n",
              "      fill: #1967D2;\n",
              "      height: 32px;\n",
              "      padding: 0 0 0 0;\n",
              "      width: 32px;\n",
              "    }\n",
              "\n",
              "    .colab-df-convert:hover {\n",
              "      background-color: #E2EBFA;\n",
              "      box-shadow: 0px 1px 2px rgba(60, 64, 67, 0.3), 0px 1px 3px 1px rgba(60, 64, 67, 0.15);\n",
              "      fill: #174EA6;\n",
              "    }\n",
              "\n",
              "    [theme=dark] .colab-df-convert {\n",
              "      background-color: #3B4455;\n",
              "      fill: #D2E3FC;\n",
              "    }\n",
              "\n",
              "    [theme=dark] .colab-df-convert:hover {\n",
              "      background-color: #434B5C;\n",
              "      box-shadow: 0px 1px 3px 1px rgba(0, 0, 0, 0.15);\n",
              "      filter: drop-shadow(0px 1px 2px rgba(0, 0, 0, 0.3));\n",
              "      fill: #FFFFFF;\n",
              "    }\n",
              "  </style>\n",
              "\n",
              "      <script>\n",
              "        const buttonEl =\n",
              "          document.querySelector('#df-49cb003a-cffd-4a21-b4c8-a5bfb81ac655 button.colab-df-convert');\n",
              "        buttonEl.style.display =\n",
              "          google.colab.kernel.accessAllowed ? 'block' : 'none';\n",
              "\n",
              "        async function convertToInteractive(key) {\n",
              "          const element = document.querySelector('#df-49cb003a-cffd-4a21-b4c8-a5bfb81ac655');\n",
              "          const dataTable =\n",
              "            await google.colab.kernel.invokeFunction('convertToInteractive',\n",
              "                                                     [key], {});\n",
              "          if (!dataTable) return;\n",
              "\n",
              "          const docLinkHtml = 'Like what you see? Visit the ' +\n",
              "            '<a target=\"_blank\" href=https://colab.research.google.com/notebooks/data_table.ipynb>data table notebook</a>'\n",
              "            + ' to learn more about interactive tables.';\n",
              "          element.innerHTML = '';\n",
              "          dataTable['output_type'] = 'display_data';\n",
              "          await google.colab.output.renderOutput(dataTable, element);\n",
              "          const docLink = document.createElement('div');\n",
              "          docLink.innerHTML = docLinkHtml;\n",
              "          element.appendChild(docLink);\n",
              "        }\n",
              "      </script>\n",
              "    </div>\n",
              "  </div>\n",
              "  "
            ]
          },
          "metadata": {},
          "execution_count": 9
        }
      ],
      "source": [
        "AMZN=pd.read_csv('/content/drive/MyDrive/Waterloo Datascience. /assignment 3/amzn_2012-7-31_2017-6-30.csv', index_col='Date', parse_dates=['Date'])\n",
        "AMZN.head()"
      ]
    },
    {
      "cell_type": "code",
      "execution_count": null,
      "metadata": {
        "id": "uU1QXgugHnu8",
        "colab": {
          "base_uri": "https://localhost:8080/",
          "height": 237
        },
        "outputId": "4a2283e1-479c-4f3e-d322-60441c90d670"
      },
      "outputs": [
        {
          "output_type": "execute_result",
          "data": {
            "text/plain": [
              "              Open    High     Low   Close     Volume  ExDividend  SplitRatio  \\\n",
              "Date                                                                            \n",
              "2017-06-30  154.28  154.50  153.14  153.83  3501395.0         0.0         1.0   \n",
              "2017-06-29  155.35  155.74  153.62  154.13  3245649.0         0.0         1.0   \n",
              "2017-06-28  155.15  155.55  154.78  155.32  2203062.0         0.0         1.0   \n",
              "2017-06-27  155.00  155.34  154.50  154.75  2385619.0         0.0         1.0   \n",
              "2017-06-26  154.71  155.75  154.63  155.23  2129945.0         0.0         1.0   \n",
              "\n",
              "               AdjOpen     AdjHigh      AdjLow    AdjClose  AdjVolume  \n",
              "Date                                                                   \n",
              "2017-06-30  151.159970  151.375521  150.043024  150.719070  3501395.0  \n",
              "2017-06-29  152.208331  152.590444  150.513317  151.013003  3245649.0  \n",
              "2017-06-28  152.012376  152.404286  151.649858  152.178938  2203062.0  \n",
              "2017-06-27  151.865409  152.198533  151.375521  151.620465  2385619.0  \n",
              "2017-06-26  151.581274  152.600242  151.502892  152.090758  2129945.0  "
            ],
            "text/html": [
              "\n",
              "  <div id=\"df-0725a5e4-8d97-4b4f-a4be-5e5bbb694a84\">\n",
              "    <div class=\"colab-df-container\">\n",
              "      <div>\n",
              "<style scoped>\n",
              "    .dataframe tbody tr th:only-of-type {\n",
              "        vertical-align: middle;\n",
              "    }\n",
              "\n",
              "    .dataframe tbody tr th {\n",
              "        vertical-align: top;\n",
              "    }\n",
              "\n",
              "    .dataframe thead th {\n",
              "        text-align: right;\n",
              "    }\n",
              "</style>\n",
              "<table border=\"1\" class=\"dataframe\">\n",
              "  <thead>\n",
              "    <tr style=\"text-align: right;\">\n",
              "      <th></th>\n",
              "      <th>Open</th>\n",
              "      <th>High</th>\n",
              "      <th>Low</th>\n",
              "      <th>Close</th>\n",
              "      <th>Volume</th>\n",
              "      <th>ExDividend</th>\n",
              "      <th>SplitRatio</th>\n",
              "      <th>AdjOpen</th>\n",
              "      <th>AdjHigh</th>\n",
              "      <th>AdjLow</th>\n",
              "      <th>AdjClose</th>\n",
              "      <th>AdjVolume</th>\n",
              "    </tr>\n",
              "    <tr>\n",
              "      <th>Date</th>\n",
              "      <th></th>\n",
              "      <th></th>\n",
              "      <th></th>\n",
              "      <th></th>\n",
              "      <th></th>\n",
              "      <th></th>\n",
              "      <th></th>\n",
              "      <th></th>\n",
              "      <th></th>\n",
              "      <th></th>\n",
              "      <th></th>\n",
              "      <th></th>\n",
              "    </tr>\n",
              "  </thead>\n",
              "  <tbody>\n",
              "    <tr>\n",
              "      <th>2017-06-30</th>\n",
              "      <td>154.28</td>\n",
              "      <td>154.50</td>\n",
              "      <td>153.14</td>\n",
              "      <td>153.83</td>\n",
              "      <td>3501395.0</td>\n",
              "      <td>0.0</td>\n",
              "      <td>1.0</td>\n",
              "      <td>151.159970</td>\n",
              "      <td>151.375521</td>\n",
              "      <td>150.043024</td>\n",
              "      <td>150.719070</td>\n",
              "      <td>3501395.0</td>\n",
              "    </tr>\n",
              "    <tr>\n",
              "      <th>2017-06-29</th>\n",
              "      <td>155.35</td>\n",
              "      <td>155.74</td>\n",
              "      <td>153.62</td>\n",
              "      <td>154.13</td>\n",
              "      <td>3245649.0</td>\n",
              "      <td>0.0</td>\n",
              "      <td>1.0</td>\n",
              "      <td>152.208331</td>\n",
              "      <td>152.590444</td>\n",
              "      <td>150.513317</td>\n",
              "      <td>151.013003</td>\n",
              "      <td>3245649.0</td>\n",
              "    </tr>\n",
              "    <tr>\n",
              "      <th>2017-06-28</th>\n",
              "      <td>155.15</td>\n",
              "      <td>155.55</td>\n",
              "      <td>154.78</td>\n",
              "      <td>155.32</td>\n",
              "      <td>2203062.0</td>\n",
              "      <td>0.0</td>\n",
              "      <td>1.0</td>\n",
              "      <td>152.012376</td>\n",
              "      <td>152.404286</td>\n",
              "      <td>151.649858</td>\n",
              "      <td>152.178938</td>\n",
              "      <td>2203062.0</td>\n",
              "    </tr>\n",
              "    <tr>\n",
              "      <th>2017-06-27</th>\n",
              "      <td>155.00</td>\n",
              "      <td>155.34</td>\n",
              "      <td>154.50</td>\n",
              "      <td>154.75</td>\n",
              "      <td>2385619.0</td>\n",
              "      <td>0.0</td>\n",
              "      <td>1.0</td>\n",
              "      <td>151.865409</td>\n",
              "      <td>152.198533</td>\n",
              "      <td>151.375521</td>\n",
              "      <td>151.620465</td>\n",
              "      <td>2385619.0</td>\n",
              "    </tr>\n",
              "    <tr>\n",
              "      <th>2017-06-26</th>\n",
              "      <td>154.71</td>\n",
              "      <td>155.75</td>\n",
              "      <td>154.63</td>\n",
              "      <td>155.23</td>\n",
              "      <td>2129945.0</td>\n",
              "      <td>0.0</td>\n",
              "      <td>1.0</td>\n",
              "      <td>151.581274</td>\n",
              "      <td>152.600242</td>\n",
              "      <td>151.502892</td>\n",
              "      <td>152.090758</td>\n",
              "      <td>2129945.0</td>\n",
              "    </tr>\n",
              "  </tbody>\n",
              "</table>\n",
              "</div>\n",
              "      <button class=\"colab-df-convert\" onclick=\"convertToInteractive('df-0725a5e4-8d97-4b4f-a4be-5e5bbb694a84')\"\n",
              "              title=\"Convert this dataframe to an interactive table.\"\n",
              "              style=\"display:none;\">\n",
              "        \n",
              "  <svg xmlns=\"http://www.w3.org/2000/svg\" height=\"24px\"viewBox=\"0 0 24 24\"\n",
              "       width=\"24px\">\n",
              "    <path d=\"M0 0h24v24H0V0z\" fill=\"none\"/>\n",
              "    <path d=\"M18.56 5.44l.94 2.06.94-2.06 2.06-.94-2.06-.94-.94-2.06-.94 2.06-2.06.94zm-11 1L8.5 8.5l.94-2.06 2.06-.94-2.06-.94L8.5 2.5l-.94 2.06-2.06.94zm10 10l.94 2.06.94-2.06 2.06-.94-2.06-.94-.94-2.06-.94 2.06-2.06.94z\"/><path d=\"M17.41 7.96l-1.37-1.37c-.4-.4-.92-.59-1.43-.59-.52 0-1.04.2-1.43.59L10.3 9.45l-7.72 7.72c-.78.78-.78 2.05 0 2.83L4 21.41c.39.39.9.59 1.41.59.51 0 1.02-.2 1.41-.59l7.78-7.78 2.81-2.81c.8-.78.8-2.07 0-2.86zM5.41 20L4 18.59l7.72-7.72 1.47 1.35L5.41 20z\"/>\n",
              "  </svg>\n",
              "      </button>\n",
              "      \n",
              "  <style>\n",
              "    .colab-df-container {\n",
              "      display:flex;\n",
              "      flex-wrap:wrap;\n",
              "      gap: 12px;\n",
              "    }\n",
              "\n",
              "    .colab-df-convert {\n",
              "      background-color: #E8F0FE;\n",
              "      border: none;\n",
              "      border-radius: 50%;\n",
              "      cursor: pointer;\n",
              "      display: none;\n",
              "      fill: #1967D2;\n",
              "      height: 32px;\n",
              "      padding: 0 0 0 0;\n",
              "      width: 32px;\n",
              "    }\n",
              "\n",
              "    .colab-df-convert:hover {\n",
              "      background-color: #E2EBFA;\n",
              "      box-shadow: 0px 1px 2px rgba(60, 64, 67, 0.3), 0px 1px 3px 1px rgba(60, 64, 67, 0.15);\n",
              "      fill: #174EA6;\n",
              "    }\n",
              "\n",
              "    [theme=dark] .colab-df-convert {\n",
              "      background-color: #3B4455;\n",
              "      fill: #D2E3FC;\n",
              "    }\n",
              "\n",
              "    [theme=dark] .colab-df-convert:hover {\n",
              "      background-color: #434B5C;\n",
              "      box-shadow: 0px 1px 3px 1px rgba(0, 0, 0, 0.15);\n",
              "      filter: drop-shadow(0px 1px 2px rgba(0, 0, 0, 0.3));\n",
              "      fill: #FFFFFF;\n",
              "    }\n",
              "  </style>\n",
              "\n",
              "      <script>\n",
              "        const buttonEl =\n",
              "          document.querySelector('#df-0725a5e4-8d97-4b4f-a4be-5e5bbb694a84 button.colab-df-convert');\n",
              "        buttonEl.style.display =\n",
              "          google.colab.kernel.accessAllowed ? 'block' : 'none';\n",
              "\n",
              "        async function convertToInteractive(key) {\n",
              "          const element = document.querySelector('#df-0725a5e4-8d97-4b4f-a4be-5e5bbb694a84');\n",
              "          const dataTable =\n",
              "            await google.colab.kernel.invokeFunction('convertToInteractive',\n",
              "                                                     [key], {});\n",
              "          if (!dataTable) return;\n",
              "\n",
              "          const docLinkHtml = 'Like what you see? Visit the ' +\n",
              "            '<a target=\"_blank\" href=https://colab.research.google.com/notebooks/data_table.ipynb>data table notebook</a>'\n",
              "            + ' to learn more about interactive tables.';\n",
              "          element.innerHTML = '';\n",
              "          dataTable['output_type'] = 'display_data';\n",
              "          await google.colab.output.renderOutput(dataTable, element);\n",
              "          const docLink = document.createElement('div');\n",
              "          docLink.innerHTML = docLinkHtml;\n",
              "          element.appendChild(docLink);\n",
              "        }\n",
              "      </script>\n",
              "    </div>\n",
              "  </div>\n",
              "  "
            ]
          },
          "metadata": {},
          "execution_count": 10
        }
      ],
      "source": [
        "IBM=pd.read_csv('/content/drive/MyDrive/Waterloo Datascience. /assignment 3/ibm_2012-7-31_2017-6-30.csv', index_col='Date', parse_dates=['Date'])\n",
        "IBM.head()"
      ]
    },
    {
      "cell_type": "code",
      "execution_count": null,
      "metadata": {
        "id": "WJYH1jvXHozT",
        "colab": {
          "base_uri": "https://localhost:8080/",
          "height": 237
        },
        "outputId": "f523e1ec-b753-426e-8568-c644c48a07f0"
      },
      "outputs": [
        {
          "output_type": "execute_result",
          "data": {
            "text/plain": [
              "              Open    High       Low   Close      Volume  ExDividend  \\\n",
              "Date                                                                   \n",
              "2017-06-30  151.90  151.92  150.0600  150.98  14540013.0         0.0   \n",
              "2017-06-29  152.28  152.50  148.9175  151.04  23771610.0         0.0   \n",
              "2017-06-28  150.92  153.47  149.8600  153.24  16621566.0         0.0   \n",
              "2017-06-27  152.84  153.31  150.3900  150.58  19274022.0         0.0   \n",
              "2017-06-26  156.25  156.50  153.1954  153.59  17934289.0         0.0   \n",
              "\n",
              "            SplitRatio  AdjOpen  AdjHigh    AdjLow  AdjClose   AdjVolume  \n",
              "Date                                                                      \n",
              "2017-06-30         1.0   151.90   151.92  150.0600    150.98  14540013.0  \n",
              "2017-06-29         1.0   152.28   152.50  148.9175    151.04  23771610.0  \n",
              "2017-06-28         1.0   150.92   153.47  149.8600    153.24  16621566.0  \n",
              "2017-06-27         1.0   152.84   153.31  150.3900    150.58  19274022.0  \n",
              "2017-06-26         1.0   156.25   156.50  153.1954    153.59  17934289.0  "
            ],
            "text/html": [
              "\n",
              "  <div id=\"df-82bce95b-ac7b-4140-99ad-6493df6a9bcd\">\n",
              "    <div class=\"colab-df-container\">\n",
              "      <div>\n",
              "<style scoped>\n",
              "    .dataframe tbody tr th:only-of-type {\n",
              "        vertical-align: middle;\n",
              "    }\n",
              "\n",
              "    .dataframe tbody tr th {\n",
              "        vertical-align: top;\n",
              "    }\n",
              "\n",
              "    .dataframe thead th {\n",
              "        text-align: right;\n",
              "    }\n",
              "</style>\n",
              "<table border=\"1\" class=\"dataframe\">\n",
              "  <thead>\n",
              "    <tr style=\"text-align: right;\">\n",
              "      <th></th>\n",
              "      <th>Open</th>\n",
              "      <th>High</th>\n",
              "      <th>Low</th>\n",
              "      <th>Close</th>\n",
              "      <th>Volume</th>\n",
              "      <th>ExDividend</th>\n",
              "      <th>SplitRatio</th>\n",
              "      <th>AdjOpen</th>\n",
              "      <th>AdjHigh</th>\n",
              "      <th>AdjLow</th>\n",
              "      <th>AdjClose</th>\n",
              "      <th>AdjVolume</th>\n",
              "    </tr>\n",
              "    <tr>\n",
              "      <th>Date</th>\n",
              "      <th></th>\n",
              "      <th></th>\n",
              "      <th></th>\n",
              "      <th></th>\n",
              "      <th></th>\n",
              "      <th></th>\n",
              "      <th></th>\n",
              "      <th></th>\n",
              "      <th></th>\n",
              "      <th></th>\n",
              "      <th></th>\n",
              "      <th></th>\n",
              "    </tr>\n",
              "  </thead>\n",
              "  <tbody>\n",
              "    <tr>\n",
              "      <th>2017-06-30</th>\n",
              "      <td>151.90</td>\n",
              "      <td>151.92</td>\n",
              "      <td>150.0600</td>\n",
              "      <td>150.98</td>\n",
              "      <td>14540013.0</td>\n",
              "      <td>0.0</td>\n",
              "      <td>1.0</td>\n",
              "      <td>151.90</td>\n",
              "      <td>151.92</td>\n",
              "      <td>150.0600</td>\n",
              "      <td>150.98</td>\n",
              "      <td>14540013.0</td>\n",
              "    </tr>\n",
              "    <tr>\n",
              "      <th>2017-06-29</th>\n",
              "      <td>152.28</td>\n",
              "      <td>152.50</td>\n",
              "      <td>148.9175</td>\n",
              "      <td>151.04</td>\n",
              "      <td>23771610.0</td>\n",
              "      <td>0.0</td>\n",
              "      <td>1.0</td>\n",
              "      <td>152.28</td>\n",
              "      <td>152.50</td>\n",
              "      <td>148.9175</td>\n",
              "      <td>151.04</td>\n",
              "      <td>23771610.0</td>\n",
              "    </tr>\n",
              "    <tr>\n",
              "      <th>2017-06-28</th>\n",
              "      <td>150.92</td>\n",
              "      <td>153.47</td>\n",
              "      <td>149.8600</td>\n",
              "      <td>153.24</td>\n",
              "      <td>16621566.0</td>\n",
              "      <td>0.0</td>\n",
              "      <td>1.0</td>\n",
              "      <td>150.92</td>\n",
              "      <td>153.47</td>\n",
              "      <td>149.8600</td>\n",
              "      <td>153.24</td>\n",
              "      <td>16621566.0</td>\n",
              "    </tr>\n",
              "    <tr>\n",
              "      <th>2017-06-27</th>\n",
              "      <td>152.84</td>\n",
              "      <td>153.31</td>\n",
              "      <td>150.3900</td>\n",
              "      <td>150.58</td>\n",
              "      <td>19274022.0</td>\n",
              "      <td>0.0</td>\n",
              "      <td>1.0</td>\n",
              "      <td>152.84</td>\n",
              "      <td>153.31</td>\n",
              "      <td>150.3900</td>\n",
              "      <td>150.58</td>\n",
              "      <td>19274022.0</td>\n",
              "    </tr>\n",
              "    <tr>\n",
              "      <th>2017-06-26</th>\n",
              "      <td>156.25</td>\n",
              "      <td>156.50</td>\n",
              "      <td>153.1954</td>\n",
              "      <td>153.59</td>\n",
              "      <td>17934289.0</td>\n",
              "      <td>0.0</td>\n",
              "      <td>1.0</td>\n",
              "      <td>156.25</td>\n",
              "      <td>156.50</td>\n",
              "      <td>153.1954</td>\n",
              "      <td>153.59</td>\n",
              "      <td>17934289.0</td>\n",
              "    </tr>\n",
              "  </tbody>\n",
              "</table>\n",
              "</div>\n",
              "      <button class=\"colab-df-convert\" onclick=\"convertToInteractive('df-82bce95b-ac7b-4140-99ad-6493df6a9bcd')\"\n",
              "              title=\"Convert this dataframe to an interactive table.\"\n",
              "              style=\"display:none;\">\n",
              "        \n",
              "  <svg xmlns=\"http://www.w3.org/2000/svg\" height=\"24px\"viewBox=\"0 0 24 24\"\n",
              "       width=\"24px\">\n",
              "    <path d=\"M0 0h24v24H0V0z\" fill=\"none\"/>\n",
              "    <path d=\"M18.56 5.44l.94 2.06.94-2.06 2.06-.94-2.06-.94-.94-2.06-.94 2.06-2.06.94zm-11 1L8.5 8.5l.94-2.06 2.06-.94-2.06-.94L8.5 2.5l-.94 2.06-2.06.94zm10 10l.94 2.06.94-2.06 2.06-.94-2.06-.94-.94-2.06-.94 2.06-2.06.94z\"/><path d=\"M17.41 7.96l-1.37-1.37c-.4-.4-.92-.59-1.43-.59-.52 0-1.04.2-1.43.59L10.3 9.45l-7.72 7.72c-.78.78-.78 2.05 0 2.83L4 21.41c.39.39.9.59 1.41.59.51 0 1.02-.2 1.41-.59l7.78-7.78 2.81-2.81c.8-.78.8-2.07 0-2.86zM5.41 20L4 18.59l7.72-7.72 1.47 1.35L5.41 20z\"/>\n",
              "  </svg>\n",
              "      </button>\n",
              "      \n",
              "  <style>\n",
              "    .colab-df-container {\n",
              "      display:flex;\n",
              "      flex-wrap:wrap;\n",
              "      gap: 12px;\n",
              "    }\n",
              "\n",
              "    .colab-df-convert {\n",
              "      background-color: #E8F0FE;\n",
              "      border: none;\n",
              "      border-radius: 50%;\n",
              "      cursor: pointer;\n",
              "      display: none;\n",
              "      fill: #1967D2;\n",
              "      height: 32px;\n",
              "      padding: 0 0 0 0;\n",
              "      width: 32px;\n",
              "    }\n",
              "\n",
              "    .colab-df-convert:hover {\n",
              "      background-color: #E2EBFA;\n",
              "      box-shadow: 0px 1px 2px rgba(60, 64, 67, 0.3), 0px 1px 3px 1px rgba(60, 64, 67, 0.15);\n",
              "      fill: #174EA6;\n",
              "    }\n",
              "\n",
              "    [theme=dark] .colab-df-convert {\n",
              "      background-color: #3B4455;\n",
              "      fill: #D2E3FC;\n",
              "    }\n",
              "\n",
              "    [theme=dark] .colab-df-convert:hover {\n",
              "      background-color: #434B5C;\n",
              "      box-shadow: 0px 1px 3px 1px rgba(0, 0, 0, 0.15);\n",
              "      filter: drop-shadow(0px 1px 2px rgba(0, 0, 0, 0.3));\n",
              "      fill: #FFFFFF;\n",
              "    }\n",
              "  </style>\n",
              "\n",
              "      <script>\n",
              "        const buttonEl =\n",
              "          document.querySelector('#df-82bce95b-ac7b-4140-99ad-6493df6a9bcd button.colab-df-convert');\n",
              "        buttonEl.style.display =\n",
              "          google.colab.kernel.accessAllowed ? 'block' : 'none';\n",
              "\n",
              "        async function convertToInteractive(key) {\n",
              "          const element = document.querySelector('#df-82bce95b-ac7b-4140-99ad-6493df6a9bcd');\n",
              "          const dataTable =\n",
              "            await google.colab.kernel.invokeFunction('convertToInteractive',\n",
              "                                                     [key], {});\n",
              "          if (!dataTable) return;\n",
              "\n",
              "          const docLinkHtml = 'Like what you see? Visit the ' +\n",
              "            '<a target=\"_blank\" href=https://colab.research.google.com/notebooks/data_table.ipynb>data table notebook</a>'\n",
              "            + ' to learn more about interactive tables.';\n",
              "          element.innerHTML = '';\n",
              "          dataTable['output_type'] = 'display_data';\n",
              "          await google.colab.output.renderOutput(dataTable, element);\n",
              "          const docLink = document.createElement('div');\n",
              "          docLink.innerHTML = docLinkHtml;\n",
              "          element.appendChild(docLink);\n",
              "        }\n",
              "      </script>\n",
              "    </div>\n",
              "  </div>\n",
              "  "
            ]
          },
          "metadata": {},
          "execution_count": 11
        }
      ],
      "source": [
        "FB=pd.read_csv('/content/drive/MyDrive/Waterloo Datascience. /assignment 3/fb_2012-7-31_2017-6-30.csv', index_col='Date', parse_dates=['Date'])\n",
        "FB.head()"
      ]
    },
    {
      "cell_type": "code",
      "execution_count": null,
      "metadata": {
        "id": "3HCoE2XUHpWV",
        "colab": {
          "base_uri": "https://localhost:8080/",
          "height": 237
        },
        "outputId": "2062f8e6-dc85-4118-9787-095a34db3e67"
      },
      "outputs": [
        {
          "output_type": "execute_result",
          "data": {
            "text/plain": [
              "              Open     High     Low   Close     Volume  ExDividend  \\\n",
              "Date                                                                 \n",
              "2017-06-30  209.91  209.910  207.85  208.19  1749132.0         0.0   \n",
              "2017-06-29  211.05  211.050  207.08  207.85  1792372.0         0.0   \n",
              "2017-06-28  210.78  211.175  210.09  210.62  1532866.0         0.0   \n",
              "2017-06-27  212.00  212.500  209.38  209.78  2226566.0         0.0   \n",
              "2017-06-26  212.79  213.470  212.31  212.61  1319058.0         0.0   \n",
              "\n",
              "            SplitRatio     AdjOpen     AdjHigh      AdjLow    AdjClose  \\\n",
              "Date                                                                     \n",
              "2017-06-30         1.0  208.700040  208.700040  206.651914  206.989955   \n",
              "2017-06-29         1.0  209.833469  209.833469  205.886353  206.651914   \n",
              "2017-06-28         1.0  209.565025  209.957749  208.879003  209.405948   \n",
              "2017-06-27         1.0  210.777993  211.275111  208.173095  208.570790   \n",
              "2017-06-26         1.0  211.563439  212.239520  211.086206  211.384477   \n",
              "\n",
              "            AdjVolume  \n",
              "Date                   \n",
              "2017-06-30  1749132.0  \n",
              "2017-06-29  1792372.0  \n",
              "2017-06-28  1532866.0  \n",
              "2017-06-27  2226566.0  \n",
              "2017-06-26  1319058.0  "
            ],
            "text/html": [
              "\n",
              "  <div id=\"df-c5d55169-6e32-47c4-ba56-ee0fe3da42bb\">\n",
              "    <div class=\"colab-df-container\">\n",
              "      <div>\n",
              "<style scoped>\n",
              "    .dataframe tbody tr th:only-of-type {\n",
              "        vertical-align: middle;\n",
              "    }\n",
              "\n",
              "    .dataframe tbody tr th {\n",
              "        vertical-align: top;\n",
              "    }\n",
              "\n",
              "    .dataframe thead th {\n",
              "        text-align: right;\n",
              "    }\n",
              "</style>\n",
              "<table border=\"1\" class=\"dataframe\">\n",
              "  <thead>\n",
              "    <tr style=\"text-align: right;\">\n",
              "      <th></th>\n",
              "      <th>Open</th>\n",
              "      <th>High</th>\n",
              "      <th>Low</th>\n",
              "      <th>Close</th>\n",
              "      <th>Volume</th>\n",
              "      <th>ExDividend</th>\n",
              "      <th>SplitRatio</th>\n",
              "      <th>AdjOpen</th>\n",
              "      <th>AdjHigh</th>\n",
              "      <th>AdjLow</th>\n",
              "      <th>AdjClose</th>\n",
              "      <th>AdjVolume</th>\n",
              "    </tr>\n",
              "    <tr>\n",
              "      <th>Date</th>\n",
              "      <th></th>\n",
              "      <th></th>\n",
              "      <th></th>\n",
              "      <th></th>\n",
              "      <th></th>\n",
              "      <th></th>\n",
              "      <th></th>\n",
              "      <th></th>\n",
              "      <th></th>\n",
              "      <th></th>\n",
              "      <th></th>\n",
              "      <th></th>\n",
              "    </tr>\n",
              "  </thead>\n",
              "  <tbody>\n",
              "    <tr>\n",
              "      <th>2017-06-30</th>\n",
              "      <td>209.91</td>\n",
              "      <td>209.910</td>\n",
              "      <td>207.85</td>\n",
              "      <td>208.19</td>\n",
              "      <td>1749132.0</td>\n",
              "      <td>0.0</td>\n",
              "      <td>1.0</td>\n",
              "      <td>208.700040</td>\n",
              "      <td>208.700040</td>\n",
              "      <td>206.651914</td>\n",
              "      <td>206.989955</td>\n",
              "      <td>1749132.0</td>\n",
              "    </tr>\n",
              "    <tr>\n",
              "      <th>2017-06-29</th>\n",
              "      <td>211.05</td>\n",
              "      <td>211.050</td>\n",
              "      <td>207.08</td>\n",
              "      <td>207.85</td>\n",
              "      <td>1792372.0</td>\n",
              "      <td>0.0</td>\n",
              "      <td>1.0</td>\n",
              "      <td>209.833469</td>\n",
              "      <td>209.833469</td>\n",
              "      <td>205.886353</td>\n",
              "      <td>206.651914</td>\n",
              "      <td>1792372.0</td>\n",
              "    </tr>\n",
              "    <tr>\n",
              "      <th>2017-06-28</th>\n",
              "      <td>210.78</td>\n",
              "      <td>211.175</td>\n",
              "      <td>210.09</td>\n",
              "      <td>210.62</td>\n",
              "      <td>1532866.0</td>\n",
              "      <td>0.0</td>\n",
              "      <td>1.0</td>\n",
              "      <td>209.565025</td>\n",
              "      <td>209.957749</td>\n",
              "      <td>208.879003</td>\n",
              "      <td>209.405948</td>\n",
              "      <td>1532866.0</td>\n",
              "    </tr>\n",
              "    <tr>\n",
              "      <th>2017-06-27</th>\n",
              "      <td>212.00</td>\n",
              "      <td>212.500</td>\n",
              "      <td>209.38</td>\n",
              "      <td>209.78</td>\n",
              "      <td>2226566.0</td>\n",
              "      <td>0.0</td>\n",
              "      <td>1.0</td>\n",
              "      <td>210.777993</td>\n",
              "      <td>211.275111</td>\n",
              "      <td>208.173095</td>\n",
              "      <td>208.570790</td>\n",
              "      <td>2226566.0</td>\n",
              "    </tr>\n",
              "    <tr>\n",
              "      <th>2017-06-26</th>\n",
              "      <td>212.79</td>\n",
              "      <td>213.470</td>\n",
              "      <td>212.31</td>\n",
              "      <td>212.61</td>\n",
              "      <td>1319058.0</td>\n",
              "      <td>0.0</td>\n",
              "      <td>1.0</td>\n",
              "      <td>211.563439</td>\n",
              "      <td>212.239520</td>\n",
              "      <td>211.086206</td>\n",
              "      <td>211.384477</td>\n",
              "      <td>1319058.0</td>\n",
              "    </tr>\n",
              "  </tbody>\n",
              "</table>\n",
              "</div>\n",
              "      <button class=\"colab-df-convert\" onclick=\"convertToInteractive('df-c5d55169-6e32-47c4-ba56-ee0fe3da42bb')\"\n",
              "              title=\"Convert this dataframe to an interactive table.\"\n",
              "              style=\"display:none;\">\n",
              "        \n",
              "  <svg xmlns=\"http://www.w3.org/2000/svg\" height=\"24px\"viewBox=\"0 0 24 24\"\n",
              "       width=\"24px\">\n",
              "    <path d=\"M0 0h24v24H0V0z\" fill=\"none\"/>\n",
              "    <path d=\"M18.56 5.44l.94 2.06.94-2.06 2.06-.94-2.06-.94-.94-2.06-.94 2.06-2.06.94zm-11 1L8.5 8.5l.94-2.06 2.06-.94-2.06-.94L8.5 2.5l-.94 2.06-2.06.94zm10 10l.94 2.06.94-2.06 2.06-.94-2.06-.94-.94-2.06-.94 2.06-2.06.94z\"/><path d=\"M17.41 7.96l-1.37-1.37c-.4-.4-.92-.59-1.43-.59-.52 0-1.04.2-1.43.59L10.3 9.45l-7.72 7.72c-.78.78-.78 2.05 0 2.83L4 21.41c.39.39.9.59 1.41.59.51 0 1.02-.2 1.41-.59l7.78-7.78 2.81-2.81c.8-.78.8-2.07 0-2.86zM5.41 20L4 18.59l7.72-7.72 1.47 1.35L5.41 20z\"/>\n",
              "  </svg>\n",
              "      </button>\n",
              "      \n",
              "  <style>\n",
              "    .colab-df-container {\n",
              "      display:flex;\n",
              "      flex-wrap:wrap;\n",
              "      gap: 12px;\n",
              "    }\n",
              "\n",
              "    .colab-df-convert {\n",
              "      background-color: #E8F0FE;\n",
              "      border: none;\n",
              "      border-radius: 50%;\n",
              "      cursor: pointer;\n",
              "      display: none;\n",
              "      fill: #1967D2;\n",
              "      height: 32px;\n",
              "      padding: 0 0 0 0;\n",
              "      width: 32px;\n",
              "    }\n",
              "\n",
              "    .colab-df-convert:hover {\n",
              "      background-color: #E2EBFA;\n",
              "      box-shadow: 0px 1px 2px rgba(60, 64, 67, 0.3), 0px 1px 3px 1px rgba(60, 64, 67, 0.15);\n",
              "      fill: #174EA6;\n",
              "    }\n",
              "\n",
              "    [theme=dark] .colab-df-convert {\n",
              "      background-color: #3B4455;\n",
              "      fill: #D2E3FC;\n",
              "    }\n",
              "\n",
              "    [theme=dark] .colab-df-convert:hover {\n",
              "      background-color: #434B5C;\n",
              "      box-shadow: 0px 1px 3px 1px rgba(0, 0, 0, 0.15);\n",
              "      filter: drop-shadow(0px 1px 2px rgba(0, 0, 0, 0.3));\n",
              "      fill: #FFFFFF;\n",
              "    }\n",
              "  </style>\n",
              "\n",
              "      <script>\n",
              "        const buttonEl =\n",
              "          document.querySelector('#df-c5d55169-6e32-47c4-ba56-ee0fe3da42bb button.colab-df-convert');\n",
              "        buttonEl.style.display =\n",
              "          google.colab.kernel.accessAllowed ? 'block' : 'none';\n",
              "\n",
              "        async function convertToInteractive(key) {\n",
              "          const element = document.querySelector('#df-c5d55169-6e32-47c4-ba56-ee0fe3da42bb');\n",
              "          const dataTable =\n",
              "            await google.colab.kernel.invokeFunction('convertToInteractive',\n",
              "                                                     [key], {});\n",
              "          if (!dataTable) return;\n",
              "\n",
              "          const docLinkHtml = 'Like what you see? Visit the ' +\n",
              "            '<a target=\"_blank\" href=https://colab.research.google.com/notebooks/data_table.ipynb>data table notebook</a>'\n",
              "            + ' to learn more about interactive tables.';\n",
              "          element.innerHTML = '';\n",
              "          dataTable['output_type'] = 'display_data';\n",
              "          await google.colab.output.renderOutput(dataTable, element);\n",
              "          const docLink = document.createElement('div');\n",
              "          docLink.innerHTML = docLinkHtml;\n",
              "          element.appendChild(docLink);\n",
              "        }\n",
              "      </script>\n",
              "    </div>\n",
              "  </div>\n",
              "  "
            ]
          },
          "metadata": {},
          "execution_count": 12
        }
      ],
      "source": [
        "MMM=pd.read_csv('/content/drive/MyDrive/Waterloo Datascience. /assignment 3/mmm_2012-7-31_2017-6-30.csv', index_col='Date', parse_dates=['Date'])\n",
        "MMM.head()"
      ]
    },
    {
      "cell_type": "markdown",
      "source": [
        "<h2>Resample the data to get prices for the end of the business month. Select the Adjusted Close for each stock.</h2>"
      ],
      "metadata": {
        "id": "Wd7LMUoF0WZH"
      }
    },
    {
      "cell_type": "code",
      "execution_count": null,
      "metadata": {
        "id": "6tHErBKBEOcT",
        "colab": {
          "base_uri": "https://localhost:8080/",
          "height": 237
        },
        "outputId": "6e3ec027-cc43-4e1b-d338-a06e8991a1ca"
      },
      "outputs": [
        {
          "output_type": "execute_result",
          "data": {
            "text/plain": [
              "            AdjClose\n",
              "Date                \n",
              "2012-07-31  233.3000\n",
              "2012-08-31  248.2700\n",
              "2012-09-28  254.3200\n",
              "2012-10-31  232.8931\n",
              "2012-11-30  252.0500"
            ],
            "text/html": [
              "\n",
              "  <div id=\"df-4eb6e87c-a18e-4594-9fbd-8256bbf82677\">\n",
              "    <div class=\"colab-df-container\">\n",
              "      <div>\n",
              "<style scoped>\n",
              "    .dataframe tbody tr th:only-of-type {\n",
              "        vertical-align: middle;\n",
              "    }\n",
              "\n",
              "    .dataframe tbody tr th {\n",
              "        vertical-align: top;\n",
              "    }\n",
              "\n",
              "    .dataframe thead th {\n",
              "        text-align: right;\n",
              "    }\n",
              "</style>\n",
              "<table border=\"1\" class=\"dataframe\">\n",
              "  <thead>\n",
              "    <tr style=\"text-align: right;\">\n",
              "      <th></th>\n",
              "      <th>AdjClose</th>\n",
              "    </tr>\n",
              "    <tr>\n",
              "      <th>Date</th>\n",
              "      <th></th>\n",
              "    </tr>\n",
              "  </thead>\n",
              "  <tbody>\n",
              "    <tr>\n",
              "      <th>2012-07-31</th>\n",
              "      <td>233.3000</td>\n",
              "    </tr>\n",
              "    <tr>\n",
              "      <th>2012-08-31</th>\n",
              "      <td>248.2700</td>\n",
              "    </tr>\n",
              "    <tr>\n",
              "      <th>2012-09-28</th>\n",
              "      <td>254.3200</td>\n",
              "    </tr>\n",
              "    <tr>\n",
              "      <th>2012-10-31</th>\n",
              "      <td>232.8931</td>\n",
              "    </tr>\n",
              "    <tr>\n",
              "      <th>2012-11-30</th>\n",
              "      <td>252.0500</td>\n",
              "    </tr>\n",
              "  </tbody>\n",
              "</table>\n",
              "</div>\n",
              "      <button class=\"colab-df-convert\" onclick=\"convertToInteractive('df-4eb6e87c-a18e-4594-9fbd-8256bbf82677')\"\n",
              "              title=\"Convert this dataframe to an interactive table.\"\n",
              "              style=\"display:none;\">\n",
              "        \n",
              "  <svg xmlns=\"http://www.w3.org/2000/svg\" height=\"24px\"viewBox=\"0 0 24 24\"\n",
              "       width=\"24px\">\n",
              "    <path d=\"M0 0h24v24H0V0z\" fill=\"none\"/>\n",
              "    <path d=\"M18.56 5.44l.94 2.06.94-2.06 2.06-.94-2.06-.94-.94-2.06-.94 2.06-2.06.94zm-11 1L8.5 8.5l.94-2.06 2.06-.94-2.06-.94L8.5 2.5l-.94 2.06-2.06.94zm10 10l.94 2.06.94-2.06 2.06-.94-2.06-.94-.94-2.06-.94 2.06-2.06.94z\"/><path d=\"M17.41 7.96l-1.37-1.37c-.4-.4-.92-.59-1.43-.59-.52 0-1.04.2-1.43.59L10.3 9.45l-7.72 7.72c-.78.78-.78 2.05 0 2.83L4 21.41c.39.39.9.59 1.41.59.51 0 1.02-.2 1.41-.59l7.78-7.78 2.81-2.81c.8-.78.8-2.07 0-2.86zM5.41 20L4 18.59l7.72-7.72 1.47 1.35L5.41 20z\"/>\n",
              "  </svg>\n",
              "      </button>\n",
              "      \n",
              "  <style>\n",
              "    .colab-df-container {\n",
              "      display:flex;\n",
              "      flex-wrap:wrap;\n",
              "      gap: 12px;\n",
              "    }\n",
              "\n",
              "    .colab-df-convert {\n",
              "      background-color: #E8F0FE;\n",
              "      border: none;\n",
              "      border-radius: 50%;\n",
              "      cursor: pointer;\n",
              "      display: none;\n",
              "      fill: #1967D2;\n",
              "      height: 32px;\n",
              "      padding: 0 0 0 0;\n",
              "      width: 32px;\n",
              "    }\n",
              "\n",
              "    .colab-df-convert:hover {\n",
              "      background-color: #E2EBFA;\n",
              "      box-shadow: 0px 1px 2px rgba(60, 64, 67, 0.3), 0px 1px 3px 1px rgba(60, 64, 67, 0.15);\n",
              "      fill: #174EA6;\n",
              "    }\n",
              "\n",
              "    [theme=dark] .colab-df-convert {\n",
              "      background-color: #3B4455;\n",
              "      fill: #D2E3FC;\n",
              "    }\n",
              "\n",
              "    [theme=dark] .colab-df-convert:hover {\n",
              "      background-color: #434B5C;\n",
              "      box-shadow: 0px 1px 3px 1px rgba(0, 0, 0, 0.15);\n",
              "      filter: drop-shadow(0px 1px 2px rgba(0, 0, 0, 0.3));\n",
              "      fill: #FFFFFF;\n",
              "    }\n",
              "  </style>\n",
              "\n",
              "      <script>\n",
              "        const buttonEl =\n",
              "          document.querySelector('#df-4eb6e87c-a18e-4594-9fbd-8256bbf82677 button.colab-df-convert');\n",
              "        buttonEl.style.display =\n",
              "          google.colab.kernel.accessAllowed ? 'block' : 'none';\n",
              "\n",
              "        async function convertToInteractive(key) {\n",
              "          const element = document.querySelector('#df-4eb6e87c-a18e-4594-9fbd-8256bbf82677');\n",
              "          const dataTable =\n",
              "            await google.colab.kernel.invokeFunction('convertToInteractive',\n",
              "                                                     [key], {});\n",
              "          if (!dataTable) return;\n",
              "\n",
              "          const docLinkHtml = 'Like what you see? Visit the ' +\n",
              "            '<a target=\"_blank\" href=https://colab.research.google.com/notebooks/data_table.ipynb>data table notebook</a>'\n",
              "            + ' to learn more about interactive tables.';\n",
              "          element.innerHTML = '';\n",
              "          dataTable['output_type'] = 'display_data';\n",
              "          await google.colab.output.renderOutput(dataTable, element);\n",
              "          const docLink = document.createElement('div');\n",
              "          docLink.innerHTML = docLinkHtml;\n",
              "          element.appendChild(docLink);\n",
              "        }\n",
              "      </script>\n",
              "    </div>\n",
              "  </div>\n",
              "  "
            ]
          },
          "metadata": {},
          "execution_count": 13
        }
      ],
      "source": [
        "#Here i will resample the data for each business month period.\n",
        "RsampAMZN=AMZN['AdjClose'].resample('BM').last()\n",
        "RsampAMZN=pd.DataFrame(RsampAMZN) \n",
        "RsampAMZN.head()"
      ]
    },
    {
      "cell_type": "code",
      "source": [
        "#After each procedure i want to check if there is or not nan o null values.\n",
        "RsampAMZN.isnull().sum()"
      ],
      "metadata": {
        "colab": {
          "base_uri": "https://localhost:8080/"
        },
        "id": "_dig8X6ADinj",
        "outputId": "77dcdea7-615b-4bc8-e234-4f5ba30979ff"
      },
      "execution_count": null,
      "outputs": [
        {
          "output_type": "execute_result",
          "data": {
            "text/plain": [
              "AdjClose    0\n",
              "dtype: int64"
            ]
          },
          "metadata": {},
          "execution_count": 14
        }
      ]
    },
    {
      "cell_type": "code",
      "execution_count": null,
      "metadata": {
        "id": "BObx6YP7EOcT",
        "colab": {
          "base_uri": "https://localhost:8080/",
          "height": 237
        },
        "outputId": "49ceeb25-a012-4153-df7b-29e015b8441b"
      },
      "outputs": [
        {
          "output_type": "execute_result",
          "data": {
            "text/plain": [
              "            AdjClose\n",
              "Date                \n",
              "2012-07-31    21.710\n",
              "2012-08-31    18.058\n",
              "2012-09-28    21.660\n",
              "2012-10-31    21.110\n",
              "2012-11-30    28.000"
            ],
            "text/html": [
              "\n",
              "  <div id=\"df-bdae8577-dd16-41cc-ae79-8659e2e541a9\">\n",
              "    <div class=\"colab-df-container\">\n",
              "      <div>\n",
              "<style scoped>\n",
              "    .dataframe tbody tr th:only-of-type {\n",
              "        vertical-align: middle;\n",
              "    }\n",
              "\n",
              "    .dataframe tbody tr th {\n",
              "        vertical-align: top;\n",
              "    }\n",
              "\n",
              "    .dataframe thead th {\n",
              "        text-align: right;\n",
              "    }\n",
              "</style>\n",
              "<table border=\"1\" class=\"dataframe\">\n",
              "  <thead>\n",
              "    <tr style=\"text-align: right;\">\n",
              "      <th></th>\n",
              "      <th>AdjClose</th>\n",
              "    </tr>\n",
              "    <tr>\n",
              "      <th>Date</th>\n",
              "      <th></th>\n",
              "    </tr>\n",
              "  </thead>\n",
              "  <tbody>\n",
              "    <tr>\n",
              "      <th>2012-07-31</th>\n",
              "      <td>21.710</td>\n",
              "    </tr>\n",
              "    <tr>\n",
              "      <th>2012-08-31</th>\n",
              "      <td>18.058</td>\n",
              "    </tr>\n",
              "    <tr>\n",
              "      <th>2012-09-28</th>\n",
              "      <td>21.660</td>\n",
              "    </tr>\n",
              "    <tr>\n",
              "      <th>2012-10-31</th>\n",
              "      <td>21.110</td>\n",
              "    </tr>\n",
              "    <tr>\n",
              "      <th>2012-11-30</th>\n",
              "      <td>28.000</td>\n",
              "    </tr>\n",
              "  </tbody>\n",
              "</table>\n",
              "</div>\n",
              "      <button class=\"colab-df-convert\" onclick=\"convertToInteractive('df-bdae8577-dd16-41cc-ae79-8659e2e541a9')\"\n",
              "              title=\"Convert this dataframe to an interactive table.\"\n",
              "              style=\"display:none;\">\n",
              "        \n",
              "  <svg xmlns=\"http://www.w3.org/2000/svg\" height=\"24px\"viewBox=\"0 0 24 24\"\n",
              "       width=\"24px\">\n",
              "    <path d=\"M0 0h24v24H0V0z\" fill=\"none\"/>\n",
              "    <path d=\"M18.56 5.44l.94 2.06.94-2.06 2.06-.94-2.06-.94-.94-2.06-.94 2.06-2.06.94zm-11 1L8.5 8.5l.94-2.06 2.06-.94-2.06-.94L8.5 2.5l-.94 2.06-2.06.94zm10 10l.94 2.06.94-2.06 2.06-.94-2.06-.94-.94-2.06-.94 2.06-2.06.94z\"/><path d=\"M17.41 7.96l-1.37-1.37c-.4-.4-.92-.59-1.43-.59-.52 0-1.04.2-1.43.59L10.3 9.45l-7.72 7.72c-.78.78-.78 2.05 0 2.83L4 21.41c.39.39.9.59 1.41.59.51 0 1.02-.2 1.41-.59l7.78-7.78 2.81-2.81c.8-.78.8-2.07 0-2.86zM5.41 20L4 18.59l7.72-7.72 1.47 1.35L5.41 20z\"/>\n",
              "  </svg>\n",
              "      </button>\n",
              "      \n",
              "  <style>\n",
              "    .colab-df-container {\n",
              "      display:flex;\n",
              "      flex-wrap:wrap;\n",
              "      gap: 12px;\n",
              "    }\n",
              "\n",
              "    .colab-df-convert {\n",
              "      background-color: #E8F0FE;\n",
              "      border: none;\n",
              "      border-radius: 50%;\n",
              "      cursor: pointer;\n",
              "      display: none;\n",
              "      fill: #1967D2;\n",
              "      height: 32px;\n",
              "      padding: 0 0 0 0;\n",
              "      width: 32px;\n",
              "    }\n",
              "\n",
              "    .colab-df-convert:hover {\n",
              "      background-color: #E2EBFA;\n",
              "      box-shadow: 0px 1px 2px rgba(60, 64, 67, 0.3), 0px 1px 3px 1px rgba(60, 64, 67, 0.15);\n",
              "      fill: #174EA6;\n",
              "    }\n",
              "\n",
              "    [theme=dark] .colab-df-convert {\n",
              "      background-color: #3B4455;\n",
              "      fill: #D2E3FC;\n",
              "    }\n",
              "\n",
              "    [theme=dark] .colab-df-convert:hover {\n",
              "      background-color: #434B5C;\n",
              "      box-shadow: 0px 1px 3px 1px rgba(0, 0, 0, 0.15);\n",
              "      filter: drop-shadow(0px 1px 2px rgba(0, 0, 0, 0.3));\n",
              "      fill: #FFFFFF;\n",
              "    }\n",
              "  </style>\n",
              "\n",
              "      <script>\n",
              "        const buttonEl =\n",
              "          document.querySelector('#df-bdae8577-dd16-41cc-ae79-8659e2e541a9 button.colab-df-convert');\n",
              "        buttonEl.style.display =\n",
              "          google.colab.kernel.accessAllowed ? 'block' : 'none';\n",
              "\n",
              "        async function convertToInteractive(key) {\n",
              "          const element = document.querySelector('#df-bdae8577-dd16-41cc-ae79-8659e2e541a9');\n",
              "          const dataTable =\n",
              "            await google.colab.kernel.invokeFunction('convertToInteractive',\n",
              "                                                     [key], {});\n",
              "          if (!dataTable) return;\n",
              "\n",
              "          const docLinkHtml = 'Like what you see? Visit the ' +\n",
              "            '<a target=\"_blank\" href=https://colab.research.google.com/notebooks/data_table.ipynb>data table notebook</a>'\n",
              "            + ' to learn more about interactive tables.';\n",
              "          element.innerHTML = '';\n",
              "          dataTable['output_type'] = 'display_data';\n",
              "          await google.colab.output.renderOutput(dataTable, element);\n",
              "          const docLink = document.createElement('div');\n",
              "          docLink.innerHTML = docLinkHtml;\n",
              "          element.appendChild(docLink);\n",
              "        }\n",
              "      </script>\n",
              "    </div>\n",
              "  </div>\n",
              "  "
            ]
          },
          "metadata": {},
          "execution_count": 15
        }
      ],
      "source": [
        "RsampFB=FB['AdjClose'].resample('BM').last()\n",
        "RsampFB=pd.DataFrame(RsampFB)\n",
        "RsampFB.head()"
      ]
    },
    {
      "cell_type": "code",
      "source": [
        "RsampFB.isnull().sum()"
      ],
      "metadata": {
        "colab": {
          "base_uri": "https://localhost:8080/"
        },
        "id": "D3jR5DhKGLyq",
        "outputId": "86788714-d97c-4d1b-bb9a-c0c4e1bb920e"
      },
      "execution_count": null,
      "outputs": [
        {
          "output_type": "execute_result",
          "data": {
            "text/plain": [
              "AdjClose    0\n",
              "dtype: int64"
            ]
          },
          "metadata": {},
          "execution_count": 16
        }
      ]
    },
    {
      "cell_type": "code",
      "source": [
        "RsampIBM=IBM['AdjClose'].resample('BM').last()\n",
        "RsampIBM=pd.DataFrame(RsampIBM)\n",
        "RsampIBM.head()"
      ],
      "metadata": {
        "id": "XpkKinhplfFV",
        "colab": {
          "base_uri": "https://localhost:8080/",
          "height": 237
        },
        "outputId": "900033b4-2f74-43fb-e987-21d656546c69"
      },
      "execution_count": null,
      "outputs": [
        {
          "output_type": "execute_result",
          "data": {
            "text/plain": [
              "              AdjClose\n",
              "Date                  \n",
              "2012-07-31  167.112403\n",
              "2012-08-31  166.858424\n",
              "2012-09-28  177.648345\n",
              "2012-10-31  166.584394\n",
              "2012-11-30  163.488846"
            ],
            "text/html": [
              "\n",
              "  <div id=\"df-f34089c9-7d07-4d30-84c6-30225310a762\">\n",
              "    <div class=\"colab-df-container\">\n",
              "      <div>\n",
              "<style scoped>\n",
              "    .dataframe tbody tr th:only-of-type {\n",
              "        vertical-align: middle;\n",
              "    }\n",
              "\n",
              "    .dataframe tbody tr th {\n",
              "        vertical-align: top;\n",
              "    }\n",
              "\n",
              "    .dataframe thead th {\n",
              "        text-align: right;\n",
              "    }\n",
              "</style>\n",
              "<table border=\"1\" class=\"dataframe\">\n",
              "  <thead>\n",
              "    <tr style=\"text-align: right;\">\n",
              "      <th></th>\n",
              "      <th>AdjClose</th>\n",
              "    </tr>\n",
              "    <tr>\n",
              "      <th>Date</th>\n",
              "      <th></th>\n",
              "    </tr>\n",
              "  </thead>\n",
              "  <tbody>\n",
              "    <tr>\n",
              "      <th>2012-07-31</th>\n",
              "      <td>167.112403</td>\n",
              "    </tr>\n",
              "    <tr>\n",
              "      <th>2012-08-31</th>\n",
              "      <td>166.858424</td>\n",
              "    </tr>\n",
              "    <tr>\n",
              "      <th>2012-09-28</th>\n",
              "      <td>177.648345</td>\n",
              "    </tr>\n",
              "    <tr>\n",
              "      <th>2012-10-31</th>\n",
              "      <td>166.584394</td>\n",
              "    </tr>\n",
              "    <tr>\n",
              "      <th>2012-11-30</th>\n",
              "      <td>163.488846</td>\n",
              "    </tr>\n",
              "  </tbody>\n",
              "</table>\n",
              "</div>\n",
              "      <button class=\"colab-df-convert\" onclick=\"convertToInteractive('df-f34089c9-7d07-4d30-84c6-30225310a762')\"\n",
              "              title=\"Convert this dataframe to an interactive table.\"\n",
              "              style=\"display:none;\">\n",
              "        \n",
              "  <svg xmlns=\"http://www.w3.org/2000/svg\" height=\"24px\"viewBox=\"0 0 24 24\"\n",
              "       width=\"24px\">\n",
              "    <path d=\"M0 0h24v24H0V0z\" fill=\"none\"/>\n",
              "    <path d=\"M18.56 5.44l.94 2.06.94-2.06 2.06-.94-2.06-.94-.94-2.06-.94 2.06-2.06.94zm-11 1L8.5 8.5l.94-2.06 2.06-.94-2.06-.94L8.5 2.5l-.94 2.06-2.06.94zm10 10l.94 2.06.94-2.06 2.06-.94-2.06-.94-.94-2.06-.94 2.06-2.06.94z\"/><path d=\"M17.41 7.96l-1.37-1.37c-.4-.4-.92-.59-1.43-.59-.52 0-1.04.2-1.43.59L10.3 9.45l-7.72 7.72c-.78.78-.78 2.05 0 2.83L4 21.41c.39.39.9.59 1.41.59.51 0 1.02-.2 1.41-.59l7.78-7.78 2.81-2.81c.8-.78.8-2.07 0-2.86zM5.41 20L4 18.59l7.72-7.72 1.47 1.35L5.41 20z\"/>\n",
              "  </svg>\n",
              "      </button>\n",
              "      \n",
              "  <style>\n",
              "    .colab-df-container {\n",
              "      display:flex;\n",
              "      flex-wrap:wrap;\n",
              "      gap: 12px;\n",
              "    }\n",
              "\n",
              "    .colab-df-convert {\n",
              "      background-color: #E8F0FE;\n",
              "      border: none;\n",
              "      border-radius: 50%;\n",
              "      cursor: pointer;\n",
              "      display: none;\n",
              "      fill: #1967D2;\n",
              "      height: 32px;\n",
              "      padding: 0 0 0 0;\n",
              "      width: 32px;\n",
              "    }\n",
              "\n",
              "    .colab-df-convert:hover {\n",
              "      background-color: #E2EBFA;\n",
              "      box-shadow: 0px 1px 2px rgba(60, 64, 67, 0.3), 0px 1px 3px 1px rgba(60, 64, 67, 0.15);\n",
              "      fill: #174EA6;\n",
              "    }\n",
              "\n",
              "    [theme=dark] .colab-df-convert {\n",
              "      background-color: #3B4455;\n",
              "      fill: #D2E3FC;\n",
              "    }\n",
              "\n",
              "    [theme=dark] .colab-df-convert:hover {\n",
              "      background-color: #434B5C;\n",
              "      box-shadow: 0px 1px 3px 1px rgba(0, 0, 0, 0.15);\n",
              "      filter: drop-shadow(0px 1px 2px rgba(0, 0, 0, 0.3));\n",
              "      fill: #FFFFFF;\n",
              "    }\n",
              "  </style>\n",
              "\n",
              "      <script>\n",
              "        const buttonEl =\n",
              "          document.querySelector('#df-f34089c9-7d07-4d30-84c6-30225310a762 button.colab-df-convert');\n",
              "        buttonEl.style.display =\n",
              "          google.colab.kernel.accessAllowed ? 'block' : 'none';\n",
              "\n",
              "        async function convertToInteractive(key) {\n",
              "          const element = document.querySelector('#df-f34089c9-7d07-4d30-84c6-30225310a762');\n",
              "          const dataTable =\n",
              "            await google.colab.kernel.invokeFunction('convertToInteractive',\n",
              "                                                     [key], {});\n",
              "          if (!dataTable) return;\n",
              "\n",
              "          const docLinkHtml = 'Like what you see? Visit the ' +\n",
              "            '<a target=\"_blank\" href=https://colab.research.google.com/notebooks/data_table.ipynb>data table notebook</a>'\n",
              "            + ' to learn more about interactive tables.';\n",
              "          element.innerHTML = '';\n",
              "          dataTable['output_type'] = 'display_data';\n",
              "          await google.colab.output.renderOutput(dataTable, element);\n",
              "          const docLink = document.createElement('div');\n",
              "          docLink.innerHTML = docLinkHtml;\n",
              "          element.appendChild(docLink);\n",
              "        }\n",
              "      </script>\n",
              "    </div>\n",
              "  </div>\n",
              "  "
            ]
          },
          "metadata": {},
          "execution_count": 17
        }
      ]
    },
    {
      "cell_type": "code",
      "source": [
        "RsampIBM.isnull().sum()"
      ],
      "metadata": {
        "colab": {
          "base_uri": "https://localhost:8080/"
        },
        "id": "D1RIDCDOGRZQ",
        "outputId": "de2fc607-1f08-4554-fcc9-d969a917cf04"
      },
      "execution_count": null,
      "outputs": [
        {
          "output_type": "execute_result",
          "data": {
            "text/plain": [
              "AdjClose    0\n",
              "dtype: int64"
            ]
          },
          "metadata": {},
          "execution_count": 18
        }
      ]
    },
    {
      "cell_type": "code",
      "source": [
        "RsampMMM=MMM['AdjClose'].resample('BM').last()\n",
        "RsampMMM=pd.DataFrame(RsampMMM)\n",
        "RsampMMM.head()"
      ],
      "metadata": {
        "id": "6tNZ3-Xql2eu",
        "colab": {
          "base_uri": "https://localhost:8080/",
          "height": 237
        },
        "outputId": "84f0af94-1a58-403c-b0f9-7d9284423363"
      },
      "execution_count": null,
      "outputs": [
        {
          "output_type": "execute_result",
          "data": {
            "text/plain": [
              "             AdjClose\n",
              "Date                 \n",
              "2012-07-31  80.117221\n",
              "2012-08-31  81.838026\n",
              "2012-09-28  81.678945\n",
              "2012-10-31  77.419126\n",
              "2012-11-30  80.912524"
            ],
            "text/html": [
              "\n",
              "  <div id=\"df-76b3bc77-49f3-4898-ae5f-a54fb138727e\">\n",
              "    <div class=\"colab-df-container\">\n",
              "      <div>\n",
              "<style scoped>\n",
              "    .dataframe tbody tr th:only-of-type {\n",
              "        vertical-align: middle;\n",
              "    }\n",
              "\n",
              "    .dataframe tbody tr th {\n",
              "        vertical-align: top;\n",
              "    }\n",
              "\n",
              "    .dataframe thead th {\n",
              "        text-align: right;\n",
              "    }\n",
              "</style>\n",
              "<table border=\"1\" class=\"dataframe\">\n",
              "  <thead>\n",
              "    <tr style=\"text-align: right;\">\n",
              "      <th></th>\n",
              "      <th>AdjClose</th>\n",
              "    </tr>\n",
              "    <tr>\n",
              "      <th>Date</th>\n",
              "      <th></th>\n",
              "    </tr>\n",
              "  </thead>\n",
              "  <tbody>\n",
              "    <tr>\n",
              "      <th>2012-07-31</th>\n",
              "      <td>80.117221</td>\n",
              "    </tr>\n",
              "    <tr>\n",
              "      <th>2012-08-31</th>\n",
              "      <td>81.838026</td>\n",
              "    </tr>\n",
              "    <tr>\n",
              "      <th>2012-09-28</th>\n",
              "      <td>81.678945</td>\n",
              "    </tr>\n",
              "    <tr>\n",
              "      <th>2012-10-31</th>\n",
              "      <td>77.419126</td>\n",
              "    </tr>\n",
              "    <tr>\n",
              "      <th>2012-11-30</th>\n",
              "      <td>80.912524</td>\n",
              "    </tr>\n",
              "  </tbody>\n",
              "</table>\n",
              "</div>\n",
              "      <button class=\"colab-df-convert\" onclick=\"convertToInteractive('df-76b3bc77-49f3-4898-ae5f-a54fb138727e')\"\n",
              "              title=\"Convert this dataframe to an interactive table.\"\n",
              "              style=\"display:none;\">\n",
              "        \n",
              "  <svg xmlns=\"http://www.w3.org/2000/svg\" height=\"24px\"viewBox=\"0 0 24 24\"\n",
              "       width=\"24px\">\n",
              "    <path d=\"M0 0h24v24H0V0z\" fill=\"none\"/>\n",
              "    <path d=\"M18.56 5.44l.94 2.06.94-2.06 2.06-.94-2.06-.94-.94-2.06-.94 2.06-2.06.94zm-11 1L8.5 8.5l.94-2.06 2.06-.94-2.06-.94L8.5 2.5l-.94 2.06-2.06.94zm10 10l.94 2.06.94-2.06 2.06-.94-2.06-.94-.94-2.06-.94 2.06-2.06.94z\"/><path d=\"M17.41 7.96l-1.37-1.37c-.4-.4-.92-.59-1.43-.59-.52 0-1.04.2-1.43.59L10.3 9.45l-7.72 7.72c-.78.78-.78 2.05 0 2.83L4 21.41c.39.39.9.59 1.41.59.51 0 1.02-.2 1.41-.59l7.78-7.78 2.81-2.81c.8-.78.8-2.07 0-2.86zM5.41 20L4 18.59l7.72-7.72 1.47 1.35L5.41 20z\"/>\n",
              "  </svg>\n",
              "      </button>\n",
              "      \n",
              "  <style>\n",
              "    .colab-df-container {\n",
              "      display:flex;\n",
              "      flex-wrap:wrap;\n",
              "      gap: 12px;\n",
              "    }\n",
              "\n",
              "    .colab-df-convert {\n",
              "      background-color: #E8F0FE;\n",
              "      border: none;\n",
              "      border-radius: 50%;\n",
              "      cursor: pointer;\n",
              "      display: none;\n",
              "      fill: #1967D2;\n",
              "      height: 32px;\n",
              "      padding: 0 0 0 0;\n",
              "      width: 32px;\n",
              "    }\n",
              "\n",
              "    .colab-df-convert:hover {\n",
              "      background-color: #E2EBFA;\n",
              "      box-shadow: 0px 1px 2px rgba(60, 64, 67, 0.3), 0px 1px 3px 1px rgba(60, 64, 67, 0.15);\n",
              "      fill: #174EA6;\n",
              "    }\n",
              "\n",
              "    [theme=dark] .colab-df-convert {\n",
              "      background-color: #3B4455;\n",
              "      fill: #D2E3FC;\n",
              "    }\n",
              "\n",
              "    [theme=dark] .colab-df-convert:hover {\n",
              "      background-color: #434B5C;\n",
              "      box-shadow: 0px 1px 3px 1px rgba(0, 0, 0, 0.15);\n",
              "      filter: drop-shadow(0px 1px 2px rgba(0, 0, 0, 0.3));\n",
              "      fill: #FFFFFF;\n",
              "    }\n",
              "  </style>\n",
              "\n",
              "      <script>\n",
              "        const buttonEl =\n",
              "          document.querySelector('#df-76b3bc77-49f3-4898-ae5f-a54fb138727e button.colab-df-convert');\n",
              "        buttonEl.style.display =\n",
              "          google.colab.kernel.accessAllowed ? 'block' : 'none';\n",
              "\n",
              "        async function convertToInteractive(key) {\n",
              "          const element = document.querySelector('#df-76b3bc77-49f3-4898-ae5f-a54fb138727e');\n",
              "          const dataTable =\n",
              "            await google.colab.kernel.invokeFunction('convertToInteractive',\n",
              "                                                     [key], {});\n",
              "          if (!dataTable) return;\n",
              "\n",
              "          const docLinkHtml = 'Like what you see? Visit the ' +\n",
              "            '<a target=\"_blank\" href=https://colab.research.google.com/notebooks/data_table.ipynb>data table notebook</a>'\n",
              "            + ' to learn more about interactive tables.';\n",
              "          element.innerHTML = '';\n",
              "          dataTable['output_type'] = 'display_data';\n",
              "          await google.colab.output.renderOutput(dataTable, element);\n",
              "          const docLink = document.createElement('div');\n",
              "          docLink.innerHTML = docLinkHtml;\n",
              "          element.appendChild(docLink);\n",
              "        }\n",
              "      </script>\n",
              "    </div>\n",
              "  </div>\n",
              "  "
            ]
          },
          "metadata": {},
          "execution_count": 78
        }
      ]
    },
    {
      "cell_type": "code",
      "source": [
        "RsampMMM.isnull().sum()"
      ],
      "metadata": {
        "colab": {
          "base_uri": "https://localhost:8080/"
        },
        "id": "HMYc7_4JGbBy",
        "outputId": "8ded3768-ffaf-491e-ef4a-3da1d8c632df"
      },
      "execution_count": null,
      "outputs": [
        {
          "output_type": "execute_result",
          "data": {
            "text/plain": [
              "AdjClose    0\n",
              "dtype: int64"
            ]
          },
          "metadata": {},
          "execution_count": 20
        }
      ]
    },
    {
      "cell_type": "markdown",
      "source": [
        "<h2>Use the pandas autocorrelation_plot() function to plot the autocorrelation of the adjusted month-end close prices for each of the stocks.</h2>\n",
        "\n",
        "<h2>Are they autocorrelated?\n",
        "Provide short explanation.</h2>"
      ],
      "metadata": {
        "id": "lijwKSHGmGQJ"
      }
    },
    {
      "cell_type": "code",
      "source": [
        "sns.set()"
      ],
      "metadata": {
        "id": "x4qD8Yd6Bz6W"
      },
      "execution_count": null,
      "outputs": []
    },
    {
      "cell_type": "code",
      "source": [
        "#Plotting my figures\n",
        "plt.figure(figsize=(15,4))\n",
        "plt.subplot(221)\n",
        "plt.plot(RsampIBM)\n",
        "plt.title(\"IBM\")\n",
        "\n",
        "plt.subplot(222)\n",
        "plt.plot(RsampMMM)\n",
        "plt.title(\"MMM\")\n",
        "\n",
        "plt.figure(figsize=(15,4))\n",
        "plt.subplot(223)\n",
        "plt.plot(RsampAMZN)\n",
        "plt.title(\"AMZN\")\n",
        "\n",
        "plt.subplot(224)\n",
        "plt.plot(RsampFB)\n",
        "plt.title(\"FB\")"
      ],
      "metadata": {
        "id": "zBhXPYPxMveK",
        "colab": {
          "base_uri": "https://localhost:8080/",
          "height": 330
        },
        "outputId": "48104245-25ce-4ffa-a862-d317cb6b89ae"
      },
      "execution_count": null,
      "outputs": [
        {
          "output_type": "execute_result",
          "data": {
            "text/plain": [
              "Text(0.5, 1.0, 'FB')"
            ]
          },
          "metadata": {},
          "execution_count": 22
        },
        {
          "output_type": "display_data",
          "data": {
            "text/plain": [
              "<Figure size 1080x288 with 2 Axes>"
            ],
            "image/png": "[encoded data removed]"
          },
          "metadata": {}
        },
        {
          "output_type": "display_data",
          "data": {
            "text/plain": [
              "<Figure size 1080x288 with 2 Axes>"
            ],
            "image/png": "[encoded data removed]"
          },
          "metadata": {}
        }
      ]
    },
    {
      "cell_type": "code",
      "source": [
        "#Plotting my autocorrelation plots. \n",
        "from pandas.plotting import autocorrelation_plot\n",
        "ax=plt.figure(figsize=(15,6))\n",
        "plt.subplot(221)\n",
        "autocorrelation_plot(RsampAMZN)\n",
        "plt.title(\"AMZN Autocorrelation\")\n",
        "\n",
        "plt.subplot(222)\n",
        "autocorrelation_plot(RsampFB)\n",
        "plt.title(\"FB Autocorrelation\")\n",
        "\n",
        "ax=plt.figure(figsize=(15,6))\n",
        "plt.figure(figsize=(15,6))\n",
        "plt.subplot(223)\n",
        "autocorrelation_plot(RsampIBM)\n",
        "plt.title(\"IBM Autocorrelation\")\n",
        "\n",
        "plt.subplot(224)\n",
        "autocorrelation_plot(RsampMMM)\n",
        "plt.title(\"MMM Autocorrelation\")"
      ],
      "metadata": {
        "id": "tKS-ulj_mIYP",
        "colab": {
          "base_uri": "https://localhost:8080/",
          "height": 482
        },
        "outputId": "a725ed3b-0b6e-45e1-9a82-1990f8244a2a"
      },
      "execution_count": null,
      "outputs": [
        {
          "output_type": "execute_result",
          "data": {
            "text/plain": [
              "Text(0.5, 1.0, 'MMM Autocorrelation')"
            ]
          },
          "metadata": {},
          "execution_count": 23
        },
        {
          "output_type": "display_data",
          "data": {
            "text/plain": [
              "<Figure size 1080x432 with 2 Axes>"
            ],
            "image/png": "[encoded data removed]"
          },
          "metadata": {}
        },
        {
          "output_type": "display_data",
          "data": {
            "text/plain": [
              "<Figure size 1080x432 with 0 Axes>"
            ]
          },
          "metadata": {}
        },
        {
          "output_type": "display_data",
          "data": {
            "text/plain": [
              "<Figure size 1080x432 with 2 Axes>"
            ],
            "image/png": "[encoded data removed]"
          },
          "metadata": {}
        }
      ]
    },
    {
      "cell_type": "markdown",
      "source": [
        "I see AMZN, MMM, and FB are stocked with autocorrelations. In Lag 20 to 50, it is possible to see a little negative autocorrelation trend.\n",
        "\n",
        "With IBM happens somewhat similarly, but at the lag number 40 the trend gets corrected and the line goes to 0, which means null autocorrelation.\n"
      ],
      "metadata": {
        "id": "nkLOKJM1bQvu"
      }
    },
    {
      "cell_type": "code",
      "source": [
        "#Merge dataframes and rename\n",
        "NewStock=pd.merge(RsampAMZN,RsampFB, on='Date',how='inner')\n",
        "NewStock=NewStock.rename(columns={'AdjClose_x':'RsampAMZN',\n",
        "                                  'AdjClose_y':'RsampFB'},inplace=False)\n",
        "NewStock=pd.merge(NewStock,RsampIBM, on='Date',how='inner')\n",
        "NewStock=NewStock.rename(columns={'AdjClose':'RsampIBM'},inplace=False)\n",
        "NewStock=pd.merge(NewStock,RsampMMM, on='Date',how='inner')\n",
        "NewStock=NewStock.rename(columns={'AdjClose':'RsampMM'},inplace=False)\n",
        "NewStock=pd.DataFrame(NewStock)\n",
        "NewStock.head()\n"
      ],
      "metadata": {
        "id": "j5DHcDRTPvpO",
        "colab": {
          "base_uri": "https://localhost:8080/",
          "height": 237
        },
        "outputId": "b75fe1e9-bdc4-4fd9-cb90-60a3864cd7fa"
      },
      "execution_count": null,
      "outputs": [
        {
          "output_type": "execute_result",
          "data": {
            "text/plain": [
              "            RsampAMZN  RsampFB    RsampIBM    RsampMM\n",
              "Date                                                 \n",
              "2012-07-31   233.3000   21.710  167.112403  80.117221\n",
              "2012-08-31   248.2700   18.058  166.858424  81.838026\n",
              "2012-09-28   254.3200   21.660  177.648345  81.678945\n",
              "2012-10-31   232.8931   21.110  166.584394  77.419126\n",
              "2012-11-30   252.0500   28.000  163.488846  80.912524"
            ],
            "text/html": [
              "\n",
              "  <div id=\"df-a8255492-b289-4d3e-8e03-f464e351a327\">\n",
              "    <div class=\"colab-df-container\">\n",
              "      <div>\n",
              "<style scoped>\n",
              "    .dataframe tbody tr th:only-of-type {\n",
              "        vertical-align: middle;\n",
              "    }\n",
              "\n",
              "    .dataframe tbody tr th {\n",
              "        vertical-align: top;\n",
              "    }\n",
              "\n",
              "    .dataframe thead th {\n",
              "        text-align: right;\n",
              "    }\n",
              "</style>\n",
              "<table border=\"1\" class=\"dataframe\">\n",
              "  <thead>\n",
              "    <tr style=\"text-align: right;\">\n",
              "      <th></th>\n",
              "      <th>RsampAMZN</th>\n",
              "      <th>RsampFB</th>\n",
              "      <th>RsampIBM</th>\n",
              "      <th>RsampMM</th>\n",
              "    </tr>\n",
              "    <tr>\n",
              "      <th>Date</th>\n",
              "      <th></th>\n",
              "      <th></th>\n",
              "      <th></th>\n",
              "      <th></th>\n",
              "    </tr>\n",
              "  </thead>\n",
              "  <tbody>\n",
              "    <tr>\n",
              "      <th>2012-07-31</th>\n",
              "      <td>233.3000</td>\n",
              "      <td>21.710</td>\n",
              "      <td>167.112403</td>\n",
              "      <td>80.117221</td>\n",
              "    </tr>\n",
              "    <tr>\n",
              "      <th>2012-08-31</th>\n",
              "      <td>248.2700</td>\n",
              "      <td>18.058</td>\n",
              "      <td>166.858424</td>\n",
              "      <td>81.838026</td>\n",
              "    </tr>\n",
              "    <tr>\n",
              "      <th>2012-09-28</th>\n",
              "      <td>254.3200</td>\n",
              "      <td>21.660</td>\n",
              "      <td>177.648345</td>\n",
              "      <td>81.678945</td>\n",
              "    </tr>\n",
              "    <tr>\n",
              "      <th>2012-10-31</th>\n",
              "      <td>232.8931</td>\n",
              "      <td>21.110</td>\n",
              "      <td>166.584394</td>\n",
              "      <td>77.419126</td>\n",
              "    </tr>\n",
              "    <tr>\n",
              "      <th>2012-11-30</th>\n",
              "      <td>252.0500</td>\n",
              "      <td>28.000</td>\n",
              "      <td>163.488846</td>\n",
              "      <td>80.912524</td>\n",
              "    </tr>\n",
              "  </tbody>\n",
              "</table>\n",
              "</div>\n",
              "      <button class=\"colab-df-convert\" onclick=\"convertToInteractive('df-a8255492-b289-4d3e-8e03-f464e351a327')\"\n",
              "              title=\"Convert this dataframe to an interactive table.\"\n",
              "              style=\"display:none;\">\n",
              "        \n",
              "  <svg xmlns=\"http://www.w3.org/2000/svg\" height=\"24px\"viewBox=\"0 0 24 24\"\n",
              "       width=\"24px\">\n",
              "    <path d=\"M0 0h24v24H0V0z\" fill=\"none\"/>\n",
              "    <path d=\"M18.56 5.44l.94 2.06.94-2.06 2.06-.94-2.06-.94-.94-2.06-.94 2.06-2.06.94zm-11 1L8.5 8.5l.94-2.06 2.06-.94-2.06-.94L8.5 2.5l-.94 2.06-2.06.94zm10 10l.94 2.06.94-2.06 2.06-.94-2.06-.94-.94-2.06-.94 2.06-2.06.94z\"/><path d=\"M17.41 7.96l-1.37-1.37c-.4-.4-.92-.59-1.43-.59-.52 0-1.04.2-1.43.59L10.3 9.45l-7.72 7.72c-.78.78-.78 2.05 0 2.83L4 21.41c.39.39.9.59 1.41.59.51 0 1.02-.2 1.41-.59l7.78-7.78 2.81-2.81c.8-.78.8-2.07 0-2.86zM5.41 20L4 18.59l7.72-7.72 1.47 1.35L5.41 20z\"/>\n",
              "  </svg>\n",
              "      </button>\n",
              "      \n",
              "  <style>\n",
              "    .colab-df-container {\n",
              "      display:flex;\n",
              "      flex-wrap:wrap;\n",
              "      gap: 12px;\n",
              "    }\n",
              "\n",
              "    .colab-df-convert {\n",
              "      background-color: #E8F0FE;\n",
              "      border: none;\n",
              "      border-radius: 50%;\n",
              "      cursor: pointer;\n",
              "      display: none;\n",
              "      fill: #1967D2;\n",
              "      height: 32px;\n",
              "      padding: 0 0 0 0;\n",
              "      width: 32px;\n",
              "    }\n",
              "\n",
              "    .colab-df-convert:hover {\n",
              "      background-color: #E2EBFA;\n",
              "      box-shadow: 0px 1px 2px rgba(60, 64, 67, 0.3), 0px 1px 3px 1px rgba(60, 64, 67, 0.15);\n",
              "      fill: #174EA6;\n",
              "    }\n",
              "\n",
              "    [theme=dark] .colab-df-convert {\n",
              "      background-color: #3B4455;\n",
              "      fill: #D2E3FC;\n",
              "    }\n",
              "\n",
              "    [theme=dark] .colab-df-convert:hover {\n",
              "      background-color: #434B5C;\n",
              "      box-shadow: 0px 1px 3px 1px rgba(0, 0, 0, 0.15);\n",
              "      filter: drop-shadow(0px 1px 2px rgba(0, 0, 0, 0.3));\n",
              "      fill: #FFFFFF;\n",
              "    }\n",
              "  </style>\n",
              "\n",
              "      <script>\n",
              "        const buttonEl =\n",
              "          document.querySelector('#df-a8255492-b289-4d3e-8e03-f464e351a327 button.colab-df-convert');\n",
              "        buttonEl.style.display =\n",
              "          google.colab.kernel.accessAllowed ? 'block' : 'none';\n",
              "\n",
              "        async function convertToInteractive(key) {\n",
              "          const element = document.querySelector('#df-a8255492-b289-4d3e-8e03-f464e351a327');\n",
              "          const dataTable =\n",
              "            await google.colab.kernel.invokeFunction('convertToInteractive',\n",
              "                                                     [key], {});\n",
              "          if (!dataTable) return;\n",
              "\n",
              "          const docLinkHtml = 'Like what you see? Visit the ' +\n",
              "            '<a target=\"_blank\" href=https://colab.research.google.com/notebooks/data_table.ipynb>data table notebook</a>'\n",
              "            + ' to learn more about interactive tables.';\n",
              "          element.innerHTML = '';\n",
              "          dataTable['output_type'] = 'display_data';\n",
              "          await google.colab.output.renderOutput(dataTable, element);\n",
              "          const docLink = document.createElement('div');\n",
              "          docLink.innerHTML = docLinkHtml;\n",
              "          element.appendChild(docLink);\n",
              "        }\n",
              "      </script>\n",
              "    </div>\n",
              "  </div>\n",
              "  "
            ]
          },
          "metadata": {},
          "execution_count": 24
        }
      ]
    },
    {
      "cell_type": "code",
      "source": [
        "NewStock.info()"
      ],
      "metadata": {
        "id": "73BZnrd3sDCL",
        "colab": {
          "base_uri": "https://localhost:8080/"
        },
        "outputId": "90bd3133-ad34-4392-8e50-6d4dc0542f81"
      },
      "execution_count": null,
      "outputs": [
        {
          "output_type": "stream",
          "name": "stdout",
          "text": [
            "<class 'pandas.core.frame.DataFrame'>\n",
            "DatetimeIndex: 60 entries, 2012-07-31 to 2017-06-30\n",
            "Data columns (total 4 columns):\n",
            " #   Column     Non-Null Count  Dtype  \n",
            "---  ------     --------------  -----  \n",
            " 0   RsampAMZN  60 non-null     float64\n",
            " 1   RsampFB    60 non-null     float64\n",
            " 2   RsampIBM   60 non-null     float64\n",
            " 3   RsampMM    60 non-null     float64\n",
            "dtypes: float64(4)\n",
            "memory usage: 2.3 KB\n"
          ]
        }
      ]
    },
    {
      "cell_type": "code",
      "source": [
        "NewStock.plot(figsize=(15,4))"
      ],
      "metadata": {
        "id": "fcZKbTInCC1j",
        "colab": {
          "base_uri": "https://localhost:8080/",
          "height": 302
        },
        "outputId": "76a7bcb8-a9e0-4b7e-fc43-f17657ecf920"
      },
      "execution_count": null,
      "outputs": [
        {
          "output_type": "execute_result",
          "data": {
            "text/plain": [
              "<matplotlib.axes._subplots.AxesSubplot at 0x7f1d27fca450>"
            ]
          },
          "metadata": {},
          "execution_count": 71
        },
        {
          "output_type": "display_data",
          "data": {
            "text/plain": [
              "<Figure size 1080x288 with 1 Axes>"
            ],
            "image/png": "[encoded data removed]"
          },
          "metadata": {}
        }
      ]
    },
    {
      "cell_type": "markdown",
      "source": [
        "<h2>Calculate the monthly returns for each stock using the \"shift trick\" explained in the lecture, using shift() function.</h2>\n",
        "\n",
        "<h2>Use pandas autotocorrelation_plot() to plot the autocorrelation of the monthly returns.\n",
        "Are the returns autocorrelated? Provide short explanation.</h2>\n",
        "\n",
        "\n"
      ],
      "metadata": {
        "id": "x5GKSnAXPqiO"
      }
    },
    {
      "cell_type": "code",
      "source": [
        "#Now Im using Shift to create the lag 1 and make the difference between observations. \n",
        "RsampIBM1= RsampIBM['AdjClose'].shift(1)\n",
        "RsampIBM1=pd.DataFrame(RsampIBM1)\n",
        "newIBM = RsampIBM.subtract(RsampIBM1)\n",
        "newIBM.head()"
      ],
      "metadata": {
        "colab": {
          "base_uri": "https://localhost:8080/",
          "height": 237
        },
        "id": "YF2991ytkjWS",
        "outputId": "9c349f58-5cd6-44c4-e59d-a6bcc8f8d71a"
      },
      "execution_count": null,
      "outputs": [
        {
          "output_type": "execute_result",
          "data": {
            "text/plain": [
              "             AdjClose\n",
              "Date                 \n",
              "2012-07-31        NaN\n",
              "2012-08-31  -0.253978\n",
              "2012-09-28  10.789921\n",
              "2012-10-31 -11.063951\n",
              "2012-11-30  -3.095549"
            ],
            "text/html": [
              "\n",
              "  <div id=\"df-dd3fe632-e080-4bd1-8cff-4f564e02b66a\">\n",
              "    <div class=\"colab-df-container\">\n",
              "      <div>\n",
              "<style scoped>\n",
              "    .dataframe tbody tr th:only-of-type {\n",
              "        vertical-align: middle;\n",
              "    }\n",
              "\n",
              "    .dataframe tbody tr th {\n",
              "        vertical-align: top;\n",
              "    }\n",
              "\n",
              "    .dataframe thead th {\n",
              "        text-align: right;\n",
              "    }\n",
              "</style>\n",
              "<table border=\"1\" class=\"dataframe\">\n",
              "  <thead>\n",
              "    <tr style=\"text-align: right;\">\n",
              "      <th></th>\n",
              "      <th>AdjClose</th>\n",
              "    </tr>\n",
              "    <tr>\n",
              "      <th>Date</th>\n",
              "      <th></th>\n",
              "    </tr>\n",
              "  </thead>\n",
              "  <tbody>\n",
              "    <tr>\n",
              "      <th>2012-07-31</th>\n",
              "      <td>NaN</td>\n",
              "    </tr>\n",
              "    <tr>\n",
              "      <th>2012-08-31</th>\n",
              "      <td>-0.253978</td>\n",
              "    </tr>\n",
              "    <tr>\n",
              "      <th>2012-09-28</th>\n",
              "      <td>10.789921</td>\n",
              "    </tr>\n",
              "    <tr>\n",
              "      <th>2012-10-31</th>\n",
              "      <td>-11.063951</td>\n",
              "    </tr>\n",
              "    <tr>\n",
              "      <th>2012-11-30</th>\n",
              "      <td>-3.095549</td>\n",
              "    </tr>\n",
              "  </tbody>\n",
              "</table>\n",
              "</div>\n",
              "      <button class=\"colab-df-convert\" onclick=\"convertToInteractive('df-dd3fe632-e080-4bd1-8cff-4f564e02b66a')\"\n",
              "              title=\"Convert this dataframe to an interactive table.\"\n",
              "              style=\"display:none;\">\n",
              "        \n",
              "  <svg xmlns=\"http://www.w3.org/2000/svg\" height=\"24px\"viewBox=\"0 0 24 24\"\n",
              "       width=\"24px\">\n",
              "    <path d=\"M0 0h24v24H0V0z\" fill=\"none\"/>\n",
              "    <path d=\"M18.56 5.44l.94 2.06.94-2.06 2.06-.94-2.06-.94-.94-2.06-.94 2.06-2.06.94zm-11 1L8.5 8.5l.94-2.06 2.06-.94-2.06-.94L8.5 2.5l-.94 2.06-2.06.94zm10 10l.94 2.06.94-2.06 2.06-.94-2.06-.94-.94-2.06-.94 2.06-2.06.94z\"/><path d=\"M17.41 7.96l-1.37-1.37c-.4-.4-.92-.59-1.43-.59-.52 0-1.04.2-1.43.59L10.3 9.45l-7.72 7.72c-.78.78-.78 2.05 0 2.83L4 21.41c.39.39.9.59 1.41.59.51 0 1.02-.2 1.41-.59l7.78-7.78 2.81-2.81c.8-.78.8-2.07 0-2.86zM5.41 20L4 18.59l7.72-7.72 1.47 1.35L5.41 20z\"/>\n",
              "  </svg>\n",
              "      </button>\n",
              "      \n",
              "  <style>\n",
              "    .colab-df-container {\n",
              "      display:flex;\n",
              "      flex-wrap:wrap;\n",
              "      gap: 12px;\n",
              "    }\n",
              "\n",
              "    .colab-df-convert {\n",
              "      background-color: #E8F0FE;\n",
              "      border: none;\n",
              "      border-radius: 50%;\n",
              "      cursor: pointer;\n",
              "      display: none;\n",
              "      fill: #1967D2;\n",
              "      height: 32px;\n",
              "      padding: 0 0 0 0;\n",
              "      width: 32px;\n",
              "    }\n",
              "\n",
              "    .colab-df-convert:hover {\n",
              "      background-color: #E2EBFA;\n",
              "      box-shadow: 0px 1px 2px rgba(60, 64, 67, 0.3), 0px 1px 3px 1px rgba(60, 64, 67, 0.15);\n",
              "      fill: #174EA6;\n",
              "    }\n",
              "\n",
              "    [theme=dark] .colab-df-convert {\n",
              "      background-color: #3B4455;\n",
              "      fill: #D2E3FC;\n",
              "    }\n",
              "\n",
              "    [theme=dark] .colab-df-convert:hover {\n",
              "      background-color: #434B5C;\n",
              "      box-shadow: 0px 1px 3px 1px rgba(0, 0, 0, 0.15);\n",
              "      filter: drop-shadow(0px 1px 2px rgba(0, 0, 0, 0.3));\n",
              "      fill: #FFFFFF;\n",
              "    }\n",
              "  </style>\n",
              "\n",
              "      <script>\n",
              "        const buttonEl =\n",
              "          document.querySelector('#df-dd3fe632-e080-4bd1-8cff-4f564e02b66a button.colab-df-convert');\n",
              "        buttonEl.style.display =\n",
              "          google.colab.kernel.accessAllowed ? 'block' : 'none';\n",
              "\n",
              "        async function convertToInteractive(key) {\n",
              "          const element = document.querySelector('#df-dd3fe632-e080-4bd1-8cff-4f564e02b66a');\n",
              "          const dataTable =\n",
              "            await google.colab.kernel.invokeFunction('convertToInteractive',\n",
              "                                                     [key], {});\n",
              "          if (!dataTable) return;\n",
              "\n",
              "          const docLinkHtml = 'Like what you see? Visit the ' +\n",
              "            '<a target=\"_blank\" href=https://colab.research.google.com/notebooks/data_table.ipynb>data table notebook</a>'\n",
              "            + ' to learn more about interactive tables.';\n",
              "          element.innerHTML = '';\n",
              "          dataTable['output_type'] = 'display_data';\n",
              "          await google.colab.output.renderOutput(dataTable, element);\n",
              "          const docLink = document.createElement('div');\n",
              "          docLink.innerHTML = docLinkHtml;\n",
              "          element.appendChild(docLink);\n",
              "        }\n",
              "      </script>\n",
              "    </div>\n",
              "  </div>\n",
              "  "
            ]
          },
          "metadata": {},
          "execution_count": 27
        }
      ]
    },
    {
      "cell_type": "code",
      "source": [
        "RsampMMM1= RsampMMM['AdjClose'].shift(1)\n",
        "RsampMMM1=pd.DataFrame(RsampMMM1)\n",
        "newMMM = RsampMMM.subtract(RsampMMM1)\n",
        "newMMM.head()"
      ],
      "metadata": {
        "colab": {
          "base_uri": "https://localhost:8080/",
          "height": 237
        },
        "id": "696YjX0LtaNC",
        "outputId": "86c08532-7098-4adc-a8f8-cc03019a87a0"
      },
      "execution_count": null,
      "outputs": [
        {
          "output_type": "execute_result",
          "data": {
            "text/plain": [
              "            AdjClose\n",
              "Date                \n",
              "2012-07-31       NaN\n",
              "2012-08-31  1.720804\n",
              "2012-09-28 -0.159080\n",
              "2012-10-31 -4.259819\n",
              "2012-11-30  3.493398"
            ],
            "text/html": [
              "\n",
              "  <div id=\"df-d6b6f9bc-4a28-4169-884b-5808b6765c58\">\n",
              "    <div class=\"colab-df-container\">\n",
              "      <div>\n",
              "<style scoped>\n",
              "    .dataframe tbody tr th:only-of-type {\n",
              "        vertical-align: middle;\n",
              "    }\n",
              "\n",
              "    .dataframe tbody tr th {\n",
              "        vertical-align: top;\n",
              "    }\n",
              "\n",
              "    .dataframe thead th {\n",
              "        text-align: right;\n",
              "    }\n",
              "</style>\n",
              "<table border=\"1\" class=\"dataframe\">\n",
              "  <thead>\n",
              "    <tr style=\"text-align: right;\">\n",
              "      <th></th>\n",
              "      <th>AdjClose</th>\n",
              "    </tr>\n",
              "    <tr>\n",
              "      <th>Date</th>\n",
              "      <th></th>\n",
              "    </tr>\n",
              "  </thead>\n",
              "  <tbody>\n",
              "    <tr>\n",
              "      <th>2012-07-31</th>\n",
              "      <td>NaN</td>\n",
              "    </tr>\n",
              "    <tr>\n",
              "      <th>2012-08-31</th>\n",
              "      <td>1.720804</td>\n",
              "    </tr>\n",
              "    <tr>\n",
              "      <th>2012-09-28</th>\n",
              "      <td>-0.159080</td>\n",
              "    </tr>\n",
              "    <tr>\n",
              "      <th>2012-10-31</th>\n",
              "      <td>-4.259819</td>\n",
              "    </tr>\n",
              "    <tr>\n",
              "      <th>2012-11-30</th>\n",
              "      <td>3.493398</td>\n",
              "    </tr>\n",
              "  </tbody>\n",
              "</table>\n",
              "</div>\n",
              "      <button class=\"colab-df-convert\" onclick=\"convertToInteractive('df-d6b6f9bc-4a28-4169-884b-5808b6765c58')\"\n",
              "              title=\"Convert this dataframe to an interactive table.\"\n",
              "              style=\"display:none;\">\n",
              "        \n",
              "  <svg xmlns=\"http://www.w3.org/2000/svg\" height=\"24px\"viewBox=\"0 0 24 24\"\n",
              "       width=\"24px\">\n",
              "    <path d=\"M0 0h24v24H0V0z\" fill=\"none\"/>\n",
              "    <path d=\"M18.56 5.44l.94 2.06.94-2.06 2.06-.94-2.06-.94-.94-2.06-.94 2.06-2.06.94zm-11 1L8.5 8.5l.94-2.06 2.06-.94-2.06-.94L8.5 2.5l-.94 2.06-2.06.94zm10 10l.94 2.06.94-2.06 2.06-.94-2.06-.94-.94-2.06-.94 2.06-2.06.94z\"/><path d=\"M17.41 7.96l-1.37-1.37c-.4-.4-.92-.59-1.43-.59-.52 0-1.04.2-1.43.59L10.3 9.45l-7.72 7.72c-.78.78-.78 2.05 0 2.83L4 21.41c.39.39.9.59 1.41.59.51 0 1.02-.2 1.41-.59l7.78-7.78 2.81-2.81c.8-.78.8-2.07 0-2.86zM5.41 20L4 18.59l7.72-7.72 1.47 1.35L5.41 20z\"/>\n",
              "  </svg>\n",
              "      </button>\n",
              "      \n",
              "  <style>\n",
              "    .colab-df-container {\n",
              "      display:flex;\n",
              "      flex-wrap:wrap;\n",
              "      gap: 12px;\n",
              "    }\n",
              "\n",
              "    .colab-df-convert {\n",
              "      background-color: #E8F0FE;\n",
              "      border: none;\n",
              "      border-radius: 50%;\n",
              "      cursor: pointer;\n",
              "      display: none;\n",
              "      fill: #1967D2;\n",
              "      height: 32px;\n",
              "      padding: 0 0 0 0;\n",
              "      width: 32px;\n",
              "    }\n",
              "\n",
              "    .colab-df-convert:hover {\n",
              "      background-color: #E2EBFA;\n",
              "      box-shadow: 0px 1px 2px rgba(60, 64, 67, 0.3), 0px 1px 3px 1px rgba(60, 64, 67, 0.15);\n",
              "      fill: #174EA6;\n",
              "    }\n",
              "\n",
              "    [theme=dark] .colab-df-convert {\n",
              "      background-color: #3B4455;\n",
              "      fill: #D2E3FC;\n",
              "    }\n",
              "\n",
              "    [theme=dark] .colab-df-convert:hover {\n",
              "      background-color: #434B5C;\n",
              "      box-shadow: 0px 1px 3px 1px rgba(0, 0, 0, 0.15);\n",
              "      filter: drop-shadow(0px 1px 2px rgba(0, 0, 0, 0.3));\n",
              "      fill: #FFFFFF;\n",
              "    }\n",
              "  </style>\n",
              "\n",
              "      <script>\n",
              "        const buttonEl =\n",
              "          document.querySelector('#df-d6b6f9bc-4a28-4169-884b-5808b6765c58 button.colab-df-convert');\n",
              "        buttonEl.style.display =\n",
              "          google.colab.kernel.accessAllowed ? 'block' : 'none';\n",
              "\n",
              "        async function convertToInteractive(key) {\n",
              "          const element = document.querySelector('#df-d6b6f9bc-4a28-4169-884b-5808b6765c58');\n",
              "          const dataTable =\n",
              "            await google.colab.kernel.invokeFunction('convertToInteractive',\n",
              "                                                     [key], {});\n",
              "          if (!dataTable) return;\n",
              "\n",
              "          const docLinkHtml = 'Like what you see? Visit the ' +\n",
              "            '<a target=\"_blank\" href=https://colab.research.google.com/notebooks/data_table.ipynb>data table notebook</a>'\n",
              "            + ' to learn more about interactive tables.';\n",
              "          element.innerHTML = '';\n",
              "          dataTable['output_type'] = 'display_data';\n",
              "          await google.colab.output.renderOutput(dataTable, element);\n",
              "          const docLink = document.createElement('div');\n",
              "          docLink.innerHTML = docLinkHtml;\n",
              "          element.appendChild(docLink);\n",
              "        }\n",
              "      </script>\n",
              "    </div>\n",
              "  </div>\n",
              "  "
            ]
          },
          "metadata": {},
          "execution_count": 28
        }
      ]
    },
    {
      "cell_type": "code",
      "source": [
        "RsampFB1= RsampFB['AdjClose'].shift(1)\n",
        "RsampFB1=pd.DataFrame(RsampFB1)\n",
        "newFB = RsampFB.subtract(RsampFB1)\n",
        "newFB.head()\n"
      ],
      "metadata": {
        "id": "yhR7pX47PvYz",
        "colab": {
          "base_uri": "https://localhost:8080/",
          "height": 237
        },
        "outputId": "0c782c49-944b-4192-9ca2-39a390cfb8f7"
      },
      "execution_count": null,
      "outputs": [
        {
          "output_type": "execute_result",
          "data": {
            "text/plain": [
              "            AdjClose\n",
              "Date                \n",
              "2012-07-31       NaN\n",
              "2012-08-31    -3.652\n",
              "2012-09-28     3.602\n",
              "2012-10-31    -0.550\n",
              "2012-11-30     6.890"
            ],
            "text/html": [
              "\n",
              "  <div id=\"df-89bd47d9-ea12-4342-8745-f742dd5555af\">\n",
              "    <div class=\"colab-df-container\">\n",
              "      <div>\n",
              "<style scoped>\n",
              "    .dataframe tbody tr th:only-of-type {\n",
              "        vertical-align: middle;\n",
              "    }\n",
              "\n",
              "    .dataframe tbody tr th {\n",
              "        vertical-align: top;\n",
              "    }\n",
              "\n",
              "    .dataframe thead th {\n",
              "        text-align: right;\n",
              "    }\n",
              "</style>\n",
              "<table border=\"1\" class=\"dataframe\">\n",
              "  <thead>\n",
              "    <tr style=\"text-align: right;\">\n",
              "      <th></th>\n",
              "      <th>AdjClose</th>\n",
              "    </tr>\n",
              "    <tr>\n",
              "      <th>Date</th>\n",
              "      <th></th>\n",
              "    </tr>\n",
              "  </thead>\n",
              "  <tbody>\n",
              "    <tr>\n",
              "      <th>2012-07-31</th>\n",
              "      <td>NaN</td>\n",
              "    </tr>\n",
              "    <tr>\n",
              "      <th>2012-08-31</th>\n",
              "      <td>-3.652</td>\n",
              "    </tr>\n",
              "    <tr>\n",
              "      <th>2012-09-28</th>\n",
              "      <td>3.602</td>\n",
              "    </tr>\n",
              "    <tr>\n",
              "      <th>2012-10-31</th>\n",
              "      <td>-0.550</td>\n",
              "    </tr>\n",
              "    <tr>\n",
              "      <th>2012-11-30</th>\n",
              "      <td>6.890</td>\n",
              "    </tr>\n",
              "  </tbody>\n",
              "</table>\n",
              "</div>\n",
              "      <button class=\"colab-df-convert\" onclick=\"convertToInteractive('df-89bd47d9-ea12-4342-8745-f742dd5555af')\"\n",
              "              title=\"Convert this dataframe to an interactive table.\"\n",
              "              style=\"display:none;\">\n",
              "        \n",
              "  <svg xmlns=\"http://www.w3.org/2000/svg\" height=\"24px\"viewBox=\"0 0 24 24\"\n",
              "       width=\"24px\">\n",
              "    <path d=\"M0 0h24v24H0V0z\" fill=\"none\"/>\n",
              "    <path d=\"M18.56 5.44l.94 2.06.94-2.06 2.06-.94-2.06-.94-.94-2.06-.94 2.06-2.06.94zm-11 1L8.5 8.5l.94-2.06 2.06-.94-2.06-.94L8.5 2.5l-.94 2.06-2.06.94zm10 10l.94 2.06.94-2.06 2.06-.94-2.06-.94-.94-2.06-.94 2.06-2.06.94z\"/><path d=\"M17.41 7.96l-1.37-1.37c-.4-.4-.92-.59-1.43-.59-.52 0-1.04.2-1.43.59L10.3 9.45l-7.72 7.72c-.78.78-.78 2.05 0 2.83L4 21.41c.39.39.9.59 1.41.59.51 0 1.02-.2 1.41-.59l7.78-7.78 2.81-2.81c.8-.78.8-2.07 0-2.86zM5.41 20L4 18.59l7.72-7.72 1.47 1.35L5.41 20z\"/>\n",
              "  </svg>\n",
              "      </button>\n",
              "      \n",
              "  <style>\n",
              "    .colab-df-container {\n",
              "      display:flex;\n",
              "      flex-wrap:wrap;\n",
              "      gap: 12px;\n",
              "    }\n",
              "\n",
              "    .colab-df-convert {\n",
              "      background-color: #E8F0FE;\n",
              "      border: none;\n",
              "      border-radius: 50%;\n",
              "      cursor: pointer;\n",
              "      display: none;\n",
              "      fill: #1967D2;\n",
              "      height: 32px;\n",
              "      padding: 0 0 0 0;\n",
              "      width: 32px;\n",
              "    }\n",
              "\n",
              "    .colab-df-convert:hover {\n",
              "      background-color: #E2EBFA;\n",
              "      box-shadow: 0px 1px 2px rgba(60, 64, 67, 0.3), 0px 1px 3px 1px rgba(60, 64, 67, 0.15);\n",
              "      fill: #174EA6;\n",
              "    }\n",
              "\n",
              "    [theme=dark] .colab-df-convert {\n",
              "      background-color: #3B4455;\n",
              "      fill: #D2E3FC;\n",
              "    }\n",
              "\n",
              "    [theme=dark] .colab-df-convert:hover {\n",
              "      background-color: #434B5C;\n",
              "      box-shadow: 0px 1px 3px 1px rgba(0, 0, 0, 0.15);\n",
              "      filter: drop-shadow(0px 1px 2px rgba(0, 0, 0, 0.3));\n",
              "      fill: #FFFFFF;\n",
              "    }\n",
              "  </style>\n",
              "\n",
              "      <script>\n",
              "        const buttonEl =\n",
              "          document.querySelector('#df-89bd47d9-ea12-4342-8745-f742dd5555af button.colab-df-convert');\n",
              "        buttonEl.style.display =\n",
              "          google.colab.kernel.accessAllowed ? 'block' : 'none';\n",
              "\n",
              "        async function convertToInteractive(key) {\n",
              "          const element = document.querySelector('#df-89bd47d9-ea12-4342-8745-f742dd5555af');\n",
              "          const dataTable =\n",
              "            await google.colab.kernel.invokeFunction('convertToInteractive',\n",
              "                                                     [key], {});\n",
              "          if (!dataTable) return;\n",
              "\n",
              "          const docLinkHtml = 'Like what you see? Visit the ' +\n",
              "            '<a target=\"_blank\" href=https://colab.research.google.com/notebooks/data_table.ipynb>data table notebook</a>'\n",
              "            + ' to learn more about interactive tables.';\n",
              "          element.innerHTML = '';\n",
              "          dataTable['output_type'] = 'display_data';\n",
              "          await google.colab.output.renderOutput(dataTable, element);\n",
              "          const docLink = document.createElement('div');\n",
              "          docLink.innerHTML = docLinkHtml;\n",
              "          element.appendChild(docLink);\n",
              "        }\n",
              "      </script>\n",
              "    </div>\n",
              "  </div>\n",
              "  "
            ]
          },
          "metadata": {},
          "execution_count": 29
        }
      ]
    },
    {
      "cell_type": "code",
      "source": [
        "RsampAMZN1= RsampAMZN['AdjClose'].shift(1)\n",
        "RsampAMZN1=pd.DataFrame(RsampAMZN1)\n",
        "newAMZN = RsampAMZN.subtract(RsampAMZN1)\n",
        "newAMZN=pd.DataFrame(newAMZN)\n",
        "newAMZN.head()"
      ],
      "metadata": {
        "colab": {
          "base_uri": "https://localhost:8080/",
          "height": 237
        },
        "id": "dKh8X3b_-QxC",
        "outputId": "df7ca777-6745-41fd-cf06-26d7d0038465"
      },
      "execution_count": null,
      "outputs": [
        {
          "output_type": "execute_result",
          "data": {
            "text/plain": [
              "            AdjClose\n",
              "Date                \n",
              "2012-07-31       NaN\n",
              "2012-08-31   14.9700\n",
              "2012-09-28    6.0500\n",
              "2012-10-31  -21.4269\n",
              "2012-11-30   19.1569"
            ],
            "text/html": [
              "\n",
              "  <div id=\"df-bf29b1ae-f8b2-4a95-9e08-308aa687a561\">\n",
              "    <div class=\"colab-df-container\">\n",
              "      <div>\n",
              "<style scoped>\n",
              "    .dataframe tbody tr th:only-of-type {\n",
              "        vertical-align: middle;\n",
              "    }\n",
              "\n",
              "    .dataframe tbody tr th {\n",
              "        vertical-align: top;\n",
              "    }\n",
              "\n",
              "    .dataframe thead th {\n",
              "        text-align: right;\n",
              "    }\n",
              "</style>\n",
              "<table border=\"1\" class=\"dataframe\">\n",
              "  <thead>\n",
              "    <tr style=\"text-align: right;\">\n",
              "      <th></th>\n",
              "      <th>AdjClose</th>\n",
              "    </tr>\n",
              "    <tr>\n",
              "      <th>Date</th>\n",
              "      <th></th>\n",
              "    </tr>\n",
              "  </thead>\n",
              "  <tbody>\n",
              "    <tr>\n",
              "      <th>2012-07-31</th>\n",
              "      <td>NaN</td>\n",
              "    </tr>\n",
              "    <tr>\n",
              "      <th>2012-08-31</th>\n",
              "      <td>14.9700</td>\n",
              "    </tr>\n",
              "    <tr>\n",
              "      <th>2012-09-28</th>\n",
              "      <td>6.0500</td>\n",
              "    </tr>\n",
              "    <tr>\n",
              "      <th>2012-10-31</th>\n",
              "      <td>-21.4269</td>\n",
              "    </tr>\n",
              "    <tr>\n",
              "      <th>2012-11-30</th>\n",
              "      <td>19.1569</td>\n",
              "    </tr>\n",
              "  </tbody>\n",
              "</table>\n",
              "</div>\n",
              "      <button class=\"colab-df-convert\" onclick=\"convertToInteractive('df-bf29b1ae-f8b2-4a95-9e08-308aa687a561')\"\n",
              "              title=\"Convert this dataframe to an interactive table.\"\n",
              "              style=\"display:none;\">\n",
              "        \n",
              "  <svg xmlns=\"http://www.w3.org/2000/svg\" height=\"24px\"viewBox=\"0 0 24 24\"\n",
              "       width=\"24px\">\n",
              "    <path d=\"M0 0h24v24H0V0z\" fill=\"none\"/>\n",
              "    <path d=\"M18.56 5.44l.94 2.06.94-2.06 2.06-.94-2.06-.94-.94-2.06-.94 2.06-2.06.94zm-11 1L8.5 8.5l.94-2.06 2.06-.94-2.06-.94L8.5 2.5l-.94 2.06-2.06.94zm10 10l.94 2.06.94-2.06 2.06-.94-2.06-.94-.94-2.06-.94 2.06-2.06.94z\"/><path d=\"M17.41 7.96l-1.37-1.37c-.4-.4-.92-.59-1.43-.59-.52 0-1.04.2-1.43.59L10.3 9.45l-7.72 7.72c-.78.78-.78 2.05 0 2.83L4 21.41c.39.39.9.59 1.41.59.51 0 1.02-.2 1.41-.59l7.78-7.78 2.81-2.81c.8-.78.8-2.07 0-2.86zM5.41 20L4 18.59l7.72-7.72 1.47 1.35L5.41 20z\"/>\n",
              "  </svg>\n",
              "      </button>\n",
              "      \n",
              "  <style>\n",
              "    .colab-df-container {\n",
              "      display:flex;\n",
              "      flex-wrap:wrap;\n",
              "      gap: 12px;\n",
              "    }\n",
              "\n",
              "    .colab-df-convert {\n",
              "      background-color: #E8F0FE;\n",
              "      border: none;\n",
              "      border-radius: 50%;\n",
              "      cursor: pointer;\n",
              "      display: none;\n",
              "      fill: #1967D2;\n",
              "      height: 32px;\n",
              "      padding: 0 0 0 0;\n",
              "      width: 32px;\n",
              "    }\n",
              "\n",
              "    .colab-df-convert:hover {\n",
              "      background-color: #E2EBFA;\n",
              "      box-shadow: 0px 1px 2px rgba(60, 64, 67, 0.3), 0px 1px 3px 1px rgba(60, 64, 67, 0.15);\n",
              "      fill: #174EA6;\n",
              "    }\n",
              "\n",
              "    [theme=dark] .colab-df-convert {\n",
              "      background-color: #3B4455;\n",
              "      fill: #D2E3FC;\n",
              "    }\n",
              "\n",
              "    [theme=dark] .colab-df-convert:hover {\n",
              "      background-color: #434B5C;\n",
              "      box-shadow: 0px 1px 3px 1px rgba(0, 0, 0, 0.15);\n",
              "      filter: drop-shadow(0px 1px 2px rgba(0, 0, 0, 0.3));\n",
              "      fill: #FFFFFF;\n",
              "    }\n",
              "  </style>\n",
              "\n",
              "      <script>\n",
              "        const buttonEl =\n",
              "          document.querySelector('#df-bf29b1ae-f8b2-4a95-9e08-308aa687a561 button.colab-df-convert');\n",
              "        buttonEl.style.display =\n",
              "          google.colab.kernel.accessAllowed ? 'block' : 'none';\n",
              "\n",
              "        async function convertToInteractive(key) {\n",
              "          const element = document.querySelector('#df-bf29b1ae-f8b2-4a95-9e08-308aa687a561');\n",
              "          const dataTable =\n",
              "            await google.colab.kernel.invokeFunction('convertToInteractive',\n",
              "                                                     [key], {});\n",
              "          if (!dataTable) return;\n",
              "\n",
              "          const docLinkHtml = 'Like what you see? Visit the ' +\n",
              "            '<a target=\"_blank\" href=https://colab.research.google.com/notebooks/data_table.ipynb>data table notebook</a>'\n",
              "            + ' to learn more about interactive tables.';\n",
              "          element.innerHTML = '';\n",
              "          dataTable['output_type'] = 'display_data';\n",
              "          await google.colab.output.renderOutput(dataTable, element);\n",
              "          const docLink = document.createElement('div');\n",
              "          docLink.innerHTML = docLinkHtml;\n",
              "          element.appendChild(docLink);\n",
              "        }\n",
              "      </script>\n",
              "    </div>\n",
              "  </div>\n",
              "  "
            ]
          },
          "metadata": {},
          "execution_count": 30
        }
      ]
    },
    {
      "cell_type": "code",
      "source": [
        "#the graphic for each return in each stock\n",
        "plt.figure(figsize=(15,4))\n",
        "plt.subplot(221)\n",
        "plt.plot(newIBM)\n",
        "plt.title(\"newIBM\")\n",
        "\n",
        "plt.subplot(222)\n",
        "plt.plot(newMMM)\n",
        "plt.title(\"newMMM\")\n",
        "\n",
        "plt.figure(figsize=(15,4))\n",
        "plt.subplot(223)\n",
        "plt.plot(newAMZN)\n",
        "plt.title(\"newAMZN\")\n",
        "\n",
        "plt.subplot(224)\n",
        "plt.plot(newFB)\n",
        "plt.title(\"newFB\")"
      ],
      "metadata": {
        "colab": {
          "base_uri": "https://localhost:8080/",
          "height": 330
        },
        "id": "jcH-Dv1mAtxp",
        "outputId": "3f8c4565-e711-4b99-d02e-db1288a25017"
      },
      "execution_count": null,
      "outputs": [
        {
          "output_type": "execute_result",
          "data": {
            "text/plain": [
              "Text(0.5, 1.0, 'newFB')"
            ]
          },
          "metadata": {},
          "execution_count": 70
        },
        {
          "output_type": "display_data",
          "data": {
            "text/plain": [
              "<Figure size 1080x288 with 2 Axes>"
            ],
            "image/png": "[encoded data removed]"
          },
          "metadata": {}
        },
        {
          "output_type": "display_data",
          "data": {
            "text/plain": [
              "<Figure size 1080x288 with 2 Axes>"
            ],
            "image/png": "[encoded data removed]"
          },
          "metadata": {}
        }
      ]
    },
    {
      "cell_type": "code",
      "source": [
        "#Now i will check the autocorrelation index to see statistically how it behaves. \n",
        "newAMZN['AdjClose'].autocorr()\n"
      ],
      "metadata": {
        "colab": {
          "base_uri": "https://localhost:8080/"
        },
        "id": "o3K_YVdrU-fq",
        "outputId": "4efc3708-6062-4af2-86e7-ce977f2cc7a8"
      },
      "execution_count": null,
      "outputs": [
        {
          "output_type": "execute_result",
          "data": {
            "text/plain": [
              "0.056284856269385224"
            ]
          },
          "metadata": {},
          "execution_count": 39
        }
      ]
    },
    {
      "cell_type": "code",
      "source": [
        "newFB['AdjClose'].autocorr()"
      ],
      "metadata": {
        "colab": {
          "base_uri": "https://localhost:8080/"
        },
        "id": "VGWgt2n0WWcK",
        "outputId": "39d02aa3-6bb4-4818-b193-aaeb26580afa"
      },
      "execution_count": null,
      "outputs": [
        {
          "output_type": "execute_result",
          "data": {
            "text/plain": [
              "-0.05102342356620797"
            ]
          },
          "metadata": {},
          "execution_count": 38
        }
      ]
    },
    {
      "cell_type": "code",
      "source": [
        "newMMM['AdjClose'].autocorr(lag=1)"
      ],
      "metadata": {
        "colab": {
          "base_uri": "https://localhost:8080/"
        },
        "id": "A6cLO7FJWd1r",
        "outputId": "05642880-24d3-4af5-b5d4-3080ab99cc0d"
      },
      "execution_count": null,
      "outputs": [
        {
          "output_type": "execute_result",
          "data": {
            "text/plain": [
              "-0.029767058709234115"
            ]
          },
          "metadata": {},
          "execution_count": 40
        }
      ]
    },
    {
      "cell_type": "code",
      "source": [
        "newIBM['AdjClose'].autocorr(lag=1)"
      ],
      "metadata": {
        "colab": {
          "base_uri": "https://localhost:8080/"
        },
        "id": "nz9B6R7fWhAc",
        "outputId": "55948528-4f12-44df-f4b4-f643ec4bf29b"
      },
      "execution_count": null,
      "outputs": [
        {
          "output_type": "execute_result",
          "data": {
            "text/plain": [
              "-0.1197754511002441"
            ]
          },
          "metadata": {},
          "execution_count": 41
        }
      ]
    },
    {
      "cell_type": "markdown",
      "source": [
        "In the autocorr indexes, I can see that AMZN is the only one with a positive autocorrelation and the rest have negative autocorrelations, however, all the autocorrelation are pretty close to 0, which means that they don't have autocorrelation, especially because almost all of them are stationary now."
      ],
      "metadata": {
        "id": "JT8MIjuqBRGd"
      }
    },
    {
      "cell_type": "code",
      "source": [
        "#Autocorrelation plots for each return in each stock. \n",
        "ax=plt.figure(figsize=(15,6))\n",
        "plt.subplot(221)\n",
        "autocorrelation_plot(newAMZN)\n",
        "plt.title(\"newAMZN Autocorrelation\")\n",
        "\n",
        "plt.subplot(222)\n",
        "autocorrelation_plot(newFB)\n",
        "plt.title(\"newFB Autocorrelation\")\n",
        "\n",
        "ax=plt.figure(figsize=(15,6))\n",
        "plt.figure(figsize=(15,6))\n",
        "plt.subplot(223)\n",
        "autocorrelation_plot(newIBM)\n",
        "plt.title(\"newIBM Autocorrelation\")\n",
        "\n",
        "plt.subplot(224)\n",
        "autocorrelation_plot(newMMM)\n",
        "plt.title(\"newMMM Autocorrelation\")"
      ],
      "metadata": {
        "colab": {
          "base_uri": "https://localhost:8080/",
          "height": 482
        },
        "id": "z-d_aw_q_83R",
        "outputId": "a91458c9-bcc1-4e2b-8682-9c9836386307"
      },
      "execution_count": null,
      "outputs": [
        {
          "output_type": "execute_result",
          "data": {
            "text/plain": [
              "Text(0.5, 1.0, 'newMMM Autocorrelation')"
            ]
          },
          "metadata": {},
          "execution_count": 44
        },
        {
          "output_type": "display_data",
          "data": {
            "text/plain": [
              "<Figure size 1080x432 with 2 Axes>"
            ],
            "image/png": "[encoded data removed]"
          },
          "metadata": {}
        },
        {
          "output_type": "display_data",
          "data": {
            "text/plain": [
              "<Figure size 1080x432 with 0 Axes>"
            ]
          },
          "metadata": {}
        },
        {
          "output_type": "display_data",
          "data": {
            "text/plain": [
              "<Figure size 1080x432 with 2 Axes>"
            ],
            "image/png": "[encoded data removed]"
          },
          "metadata": {}
        }
      ]
    },
    {
      "cell_type": "markdown",
      "source": [
        "<h2>Combine all 4 time series (returns) into a single DataFrame, Visualize the correlation between the returns of all pairs of stocks using a scatter plot matrix (use scatter_matrix() function from pandas.plotting).\n",
        "Explain the results. Is there any correlation?</h2>"
      ],
      "metadata": {
        "id": "6dIIzMqbPucr"
      }
    },
    {
      "cell_type": "code",
      "source": [
        "#Merge dataframes and rename the columns. \n",
        "NewStock2=pd.merge(newIBM,newMMM, on='Date',how='inner')\n",
        "NewStock2=NewStock2.rename(columns={'AdjClose_x':'newIBM',\n",
        "                                  'AdjClose_y':'newMMM'},inplace=False)\n",
        "NewStock2=pd.merge(NewStock2,newFB, on='Date',how='inner')\n",
        "NewStock2=NewStock2.rename(columns={'AdjClose':'newFB'},inplace=False)\n",
        "NewStock2=pd.merge(NewStock2,newAMZN, on='Date',how='inner')\n",
        "NewStock2=NewStock2.rename(columns={'AdjClose':'newAMZN'},inplace=False)\n",
        "NewStock2=pd.DataFrame(NewStock2)\n",
        "NewStock2.head()"
      ],
      "metadata": {
        "colab": {
          "base_uri": "https://localhost:8080/",
          "height": 237
        },
        "id": "pAFWkqZu-1Ot",
        "outputId": "cff1fc19-61f0-4fc5-d741-6319430ed66d"
      },
      "execution_count": null,
      "outputs": [
        {
          "output_type": "execute_result",
          "data": {
            "text/plain": [
              "               newIBM    newMMM  newFB  newAMZN\n",
              "Date                                           \n",
              "2012-07-31        NaN       NaN    NaN      NaN\n",
              "2012-08-31  -0.253978  1.720804 -3.652  14.9700\n",
              "2012-09-28  10.789921 -0.159080  3.602   6.0500\n",
              "2012-10-31 -11.063951 -4.259819 -0.550 -21.4269\n",
              "2012-11-30  -3.095549  3.493398  6.890  19.1569"
            ],
            "text/html": [
              "\n",
              "  <div id=\"df-a96827d2-8022-4847-bce2-e22269c79dbb\">\n",
              "    <div class=\"colab-df-container\">\n",
              "      <div>\n",
              "<style scoped>\n",
              "    .dataframe tbody tr th:only-of-type {\n",
              "        vertical-align: middle;\n",
              "    }\n",
              "\n",
              "    .dataframe tbody tr th {\n",
              "        vertical-align: top;\n",
              "    }\n",
              "\n",
              "    .dataframe thead th {\n",
              "        text-align: right;\n",
              "    }\n",
              "</style>\n",
              "<table border=\"1\" class=\"dataframe\">\n",
              "  <thead>\n",
              "    <tr style=\"text-align: right;\">\n",
              "      <th></th>\n",
              "      <th>newIBM</th>\n",
              "      <th>newMMM</th>\n",
              "      <th>newFB</th>\n",
              "      <th>newAMZN</th>\n",
              "    </tr>\n",
              "    <tr>\n",
              "      <th>Date</th>\n",
              "      <th></th>\n",
              "      <th></th>\n",
              "      <th></th>\n",
              "      <th></th>\n",
              "    </tr>\n",
              "  </thead>\n",
              "  <tbody>\n",
              "    <tr>\n",
              "      <th>2012-07-31</th>\n",
              "      <td>NaN</td>\n",
              "      <td>NaN</td>\n",
              "      <td>NaN</td>\n",
              "      <td>NaN</td>\n",
              "    </tr>\n",
              "    <tr>\n",
              "      <th>2012-08-31</th>\n",
              "      <td>-0.253978</td>\n",
              "      <td>1.720804</td>\n",
              "      <td>-3.652</td>\n",
              "      <td>14.9700</td>\n",
              "    </tr>\n",
              "    <tr>\n",
              "      <th>2012-09-28</th>\n",
              "      <td>10.789921</td>\n",
              "      <td>-0.159080</td>\n",
              "      <td>3.602</td>\n",
              "      <td>6.0500</td>\n",
              "    </tr>\n",
              "    <tr>\n",
              "      <th>2012-10-31</th>\n",
              "      <td>-11.063951</td>\n",
              "      <td>-4.259819</td>\n",
              "      <td>-0.550</td>\n",
              "      <td>-21.4269</td>\n",
              "    </tr>\n",
              "    <tr>\n",
              "      <th>2012-11-30</th>\n",
              "      <td>-3.095549</td>\n",
              "      <td>3.493398</td>\n",
              "      <td>6.890</td>\n",
              "      <td>19.1569</td>\n",
              "    </tr>\n",
              "  </tbody>\n",
              "</table>\n",
              "</div>\n",
              "      <button class=\"colab-df-convert\" onclick=\"convertToInteractive('df-a96827d2-8022-4847-bce2-e22269c79dbb')\"\n",
              "              title=\"Convert this dataframe to an interactive table.\"\n",
              "              style=\"display:none;\">\n",
              "        \n",
              "  <svg xmlns=\"http://www.w3.org/2000/svg\" height=\"24px\"viewBox=\"0 0 24 24\"\n",
              "       width=\"24px\">\n",
              "    <path d=\"M0 0h24v24H0V0z\" fill=\"none\"/>\n",
              "    <path d=\"M18.56 5.44l.94 2.06.94-2.06 2.06-.94-2.06-.94-.94-2.06-.94 2.06-2.06.94zm-11 1L8.5 8.5l.94-2.06 2.06-.94-2.06-.94L8.5 2.5l-.94 2.06-2.06.94zm10 10l.94 2.06.94-2.06 2.06-.94-2.06-.94-.94-2.06-.94 2.06-2.06.94z\"/><path d=\"M17.41 7.96l-1.37-1.37c-.4-.4-.92-.59-1.43-.59-.52 0-1.04.2-1.43.59L10.3 9.45l-7.72 7.72c-.78.78-.78 2.05 0 2.83L4 21.41c.39.39.9.59 1.41.59.51 0 1.02-.2 1.41-.59l7.78-7.78 2.81-2.81c.8-.78.8-2.07 0-2.86zM5.41 20L4 18.59l7.72-7.72 1.47 1.35L5.41 20z\"/>\n",
              "  </svg>\n",
              "      </button>\n",
              "      \n",
              "  <style>\n",
              "    .colab-df-container {\n",
              "      display:flex;\n",
              "      flex-wrap:wrap;\n",
              "      gap: 12px;\n",
              "    }\n",
              "\n",
              "    .colab-df-convert {\n",
              "      background-color: #E8F0FE;\n",
              "      border: none;\n",
              "      border-radius: 50%;\n",
              "      cursor: pointer;\n",
              "      display: none;\n",
              "      fill: #1967D2;\n",
              "      height: 32px;\n",
              "      padding: 0 0 0 0;\n",
              "      width: 32px;\n",
              "    }\n",
              "\n",
              "    .colab-df-convert:hover {\n",
              "      background-color: #E2EBFA;\n",
              "      box-shadow: 0px 1px 2px rgba(60, 64, 67, 0.3), 0px 1px 3px 1px rgba(60, 64, 67, 0.15);\n",
              "      fill: #174EA6;\n",
              "    }\n",
              "\n",
              "    [theme=dark] .colab-df-convert {\n",
              "      background-color: #3B4455;\n",
              "      fill: #D2E3FC;\n",
              "    }\n",
              "\n",
              "    [theme=dark] .colab-df-convert:hover {\n",
              "      background-color: #434B5C;\n",
              "      box-shadow: 0px 1px 3px 1px rgba(0, 0, 0, 0.15);\n",
              "      filter: drop-shadow(0px 1px 2px rgba(0, 0, 0, 0.3));\n",
              "      fill: #FFFFFF;\n",
              "    }\n",
              "  </style>\n",
              "\n",
              "      <script>\n",
              "        const buttonEl =\n",
              "          document.querySelector('#df-a96827d2-8022-4847-bce2-e22269c79dbb button.colab-df-convert');\n",
              "        buttonEl.style.display =\n",
              "          google.colab.kernel.accessAllowed ? 'block' : 'none';\n",
              "\n",
              "        async function convertToInteractive(key) {\n",
              "          const element = document.querySelector('#df-a96827d2-8022-4847-bce2-e22269c79dbb');\n",
              "          const dataTable =\n",
              "            await google.colab.kernel.invokeFunction('convertToInteractive',\n",
              "                                                     [key], {});\n",
              "          if (!dataTable) return;\n",
              "\n",
              "          const docLinkHtml = 'Like what you see? Visit the ' +\n",
              "            '<a target=\"_blank\" href=https://colab.research.google.com/notebooks/data_table.ipynb>data table notebook</a>'\n",
              "            + ' to learn more about interactive tables.';\n",
              "          element.innerHTML = '';\n",
              "          dataTable['output_type'] = 'display_data';\n",
              "          await google.colab.output.renderOutput(dataTable, element);\n",
              "          const docLink = document.createElement('div');\n",
              "          docLink.innerHTML = docLinkHtml;\n",
              "          element.appendChild(docLink);\n",
              "        }\n",
              "      </script>\n",
              "    </div>\n",
              "  </div>\n",
              "  "
            ]
          },
          "metadata": {},
          "execution_count": 58
        }
      ]
    },
    {
      "cell_type": "code",
      "source": [
        "NewStock2.plot(figsize=(15,8))"
      ],
      "metadata": {
        "colab": {
          "base_uri": "https://localhost:8080/",
          "height": 519
        },
        "id": "xjlR8AWQ_uhu",
        "outputId": "b253a342-6329-4297-c4e4-f3b1b5e70205"
      },
      "execution_count": null,
      "outputs": [
        {
          "output_type": "execute_result",
          "data": {
            "text/plain": [
              "<matplotlib.axes._subplots.AxesSubplot at 0x7f1d2836be50>"
            ]
          },
          "metadata": {},
          "execution_count": 68
        },
        {
          "output_type": "display_data",
          "data": {
            "text/plain": [
              "<Figure size 1080x576 with 1 Axes>"
            ],
            "image/png": "[encoded data removed]"
          },
          "metadata": {}
        }
      ]
    },
    {
      "cell_type": "code",
      "source": [
        "pd.plotting.scatter_matrix(NewStock2, alpha=0.2,figsize=(15,8), diagonal='hist')"
      ],
      "metadata": {
        "colab": {
          "base_uri": "https://localhost:8080/",
          "height": 807
        },
        "id": "8iQ0VVkqabFq",
        "outputId": "a898e440-18fb-4357-c84a-5880d48cff01"
      },
      "execution_count": null,
      "outputs": [
        {
          "output_type": "execute_result",
          "data": {
            "text/plain": [
              "array([[<matplotlib.axes._subplots.AxesSubplot object at 0x7f1d27095ed0>,\n",
              "        <matplotlib.axes._subplots.AxesSubplot object at 0x7f1d27047a10>,\n",
              "        <matplotlib.axes._subplots.AxesSubplot object at 0x7f1d26ff6ed0>,\n",
              "        <matplotlib.axes._subplots.AxesSubplot object at 0x7f1d26fb8410>],\n",
              "       [<matplotlib.axes._subplots.AxesSubplot object at 0x7f1d26f6e910>,\n",
              "        <matplotlib.axes._subplots.AxesSubplot object at 0x7f1d26f23e10>,\n",
              "        <matplotlib.axes._subplots.AxesSubplot object at 0x7f1d26ee53d0>,\n",
              "        <matplotlib.axes._subplots.AxesSubplot object at 0x7f1d26f1e810>],\n",
              "       [<matplotlib.axes._subplots.AxesSubplot object at 0x7f1d26f1e850>,\n",
              "        <matplotlib.axes._subplots.AxesSubplot object at 0x7f1d26ed2e50>,\n",
              "        <matplotlib.axes._subplots.AxesSubplot object at 0x7f1d26e4d790>,\n",
              "        <matplotlib.axes._subplots.AxesSubplot object at 0x7f1d2a31bd10>],\n",
              "       [<matplotlib.axes._subplots.AxesSubplot object at 0x7f1d27b13490>,\n",
              "        <matplotlib.axes._subplots.AxesSubplot object at 0x7f1d27aa7150>,\n",
              "        <matplotlib.axes._subplots.AxesSubplot object at 0x7f1d27946b50>,\n",
              "        <matplotlib.axes._subplots.AxesSubplot object at 0x7f1d275cfa90>]],\n",
              "      dtype=object)"
            ]
          },
          "metadata": {},
          "execution_count": 77
        },
        {
          "output_type": "display_data",
          "data": {
            "text/plain": [
              "<Figure size 1080x576 with 16 Axes>"
            ],
            "image/png": "[encoded data removed]"
          },
          "metadata": {}
        }
      ]
    }
  ],
  "metadata": {
    "kernelspec": {
      "display_name": "Python 3",
      "language": "python",
      "name": "python3"
    },
    "language_info": {
      "codemirror_mode": {
        "name": "ipython",
        "version": 3
      },
      "file_extension": ".py",
      "mimetype": "text/x-python",
      "name": "python",
      "nbconvert_exporter": "python",
      "pygments_lexer": "ipython3",
      "version": "3.7.7"
    },
    "toc": {
      "base_numbering": 1,
      "nav_menu": {},
      "number_sections": false,
      "sideBar": true,
      "skip_h1_title": false,
      "title_cell": "Table of Contents",
      "title_sidebar": "Contents",
      "toc_cell": false,
      "toc_position": {},
      "toc_section_display": true,
      "toc_window_display": false
    },
    "colab": {
      "provenance": [],
      "include_colab_link": true
    }
  },
  "nbformat": 4,
  "nbformat_minor": 0
}